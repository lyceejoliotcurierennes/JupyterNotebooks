{
 "cells": [
  {
   "cell_type": "markdown",
   "metadata": {},
   "source": [
    "# TP3 - algorithmes de tri"
   ]
  },
  {
   "cell_type": "markdown",
   "metadata": {},
   "source": [
    "lien vers la version binder (en ligne) : https://mybinder.org/v2/gh/nsijc/coursNSIJC/master?filepath=TP3_algosTri.ipynb"
   ]
  },
  {
   "cell_type": "markdown",
   "metadata": {},
   "source": [
    "**lien vers interstices :** https://interstices.info/les-algorithmes-de-tri/"
   ]
  },
  {
   "cell_type": "markdown",
   "metadata": {},
   "source": [
    "## 1. Tri par sélection"
   ]
  },
  {
   "cell_type": "markdown",
   "metadata": {},
   "source": [
    "Rappel : fonction de recherche de la position du maximum dans une liste"
   ]
  },
  {
   "cell_type": "code",
   "execution_count": null,
   "metadata": {},
   "outputs": [],
   "source": [
    "def recherche_max(tab):\n",
    "    max = tab[0]\n",
    "    pos_max = 0\n",
    "    for i in range(1,len(tab)) :\n",
    "        if tab[i] > max :\n",
    "            max = tab[i]\n",
    "            pos_max = i\n",
    "    return pos_max"
   ]
  },
  {
   "cell_type": "markdown",
   "metadata": {},
   "source": [
    "Comment construire l'algorithme de tri par sélection :\n",
    "- Faire tourner la simulation sur interstices pour l'algorithme de tri par sélection.\n",
    "- Visualiser quelle est la zone \"à trier\" et comment elle progresse.\n",
    "- Déterminer l'opération à effectuer sur la zone \"à trier\"\n",
    "- Visualiser quelle est la zone \"déjà triée\" et comment elle progresse.\n",
    "- Déterminer l'opération à faire pour intégrer un nombre dans la zone \"déjà triée\"\n",
    "\n",
    "<img src='tri_selection.png'/>"
   ]
  },
  {
   "cell_type": "markdown",
   "metadata": {},
   "source": [
    "Compléter le code de la fonction tri ci-dessous :"
   ]
  },
  {
   "cell_type": "code",
   "execution_count": null,
   "metadata": {},
   "outputs": [],
   "source": [
    "def tri_selection(tab) :\n",
    "    \"\"\" prend en argument une liste non triée de nombres \n",
    "    retourne la liste triée des nombres \"\"\"\n",
    "    ## à compléter\n",
    "    \n",
    "    return tab"
   ]
  },
  {
   "cell_type": "markdown",
   "metadata": {},
   "source": [
    "Tester la fonction avec le code de test ci-dessous :"
   ]
  },
  {
   "cell_type": "code",
   "execution_count": null,
   "metadata": {},
   "outputs": [],
   "source": [
    "from random import randint\n",
    "from copy import deepcopy\n",
    "N = 100\n",
    "nb_erreurs = 0\n",
    "for i in range(100) :\n",
    "    tab1 = [randint(1,N) for j in range(50)]\n",
    "    tab2 = deepcopy(tab1) # pour éviter la transformation de tab1\n",
    "    tab2 = tri_selection(tab2)\n",
    "    tab3 = deepcopy(tab1) # pour éviter la transformation de tab1\n",
    "    tab3.sort()\n",
    "    if not tab2 == tab3 :\n",
    "        nb_erreurs += 1\n",
    "print(\"votre fonction a un pourcentage d'erreurs de : \",nb_erreurs)\n",
    "    "
   ]
  },
  {
   "cell_type": "markdown",
   "metadata": {},
   "source": [
    "Déterminer la complexité de l'algorithme de sélection ainsi que ses variants."
   ]
  },
  {
   "cell_type": "code",
   "execution_count": null,
   "metadata": {},
   "outputs": [],
   "source": []
  },
  {
   "cell_type": "markdown",
   "metadata": {},
   "source": [
    "## 2. Tri par insertion"
   ]
  },
  {
   "cell_type": "markdown",
   "metadata": {},
   "source": [
    "Rappel : fonction qui place un nombre dans une liste déjà triée"
   ]
  },
  {
   "cell_type": "code",
   "execution_count": null,
   "metadata": {},
   "outputs": [],
   "source": [
    "def place_dans_liste(tab,val):\n",
    "    i=0\n",
    "    while val > tab[i] and i < len(tab) :\n",
    "        i = i + 1\n",
    "    return i"
   ]
  },
  {
   "cell_type": "markdown",
   "metadata": {},
   "source": [
    "Comment construire l'algorithme de tri par insertion :\n",
    "- Faire tourner la simulation sur interstices pour l'algorithme de tri par insertion.\n",
    "- Visualiser quelle est la zone \"à trier\" et comment elle progresse.\n",
    "- Déterminer l'opération à effectuer sur la zone \"à trier\"\n",
    "- Visualiser quelle est la zone \"déjà triée\" et comment elle progresse.\n",
    "- Déterminer l'opération à faire pour intégrer un nombre dans la zone \"déjà triée\"\n",
    "\n",
    "<img src='tri_insertion.png'/>"
   ]
  },
  {
   "cell_type": "markdown",
   "metadata": {},
   "source": [
    "Compléter le code de la fonction tri ci-dessous :"
   ]
  },
  {
   "cell_type": "code",
   "execution_count": null,
   "metadata": {},
   "outputs": [],
   "source": [
    "def tri_insertion(tab) :\n",
    "    \"\"\" prend en argument une liste non triée de nombres \n",
    "    retourne la liste triée des nombres \"\"\"\n",
    "    ## à compléter\n",
    "    \n",
    "    return tab"
   ]
  },
  {
   "cell_type": "markdown",
   "metadata": {},
   "source": [
    "Tester la fonction avec le code de test ci-dessous :"
   ]
  },
  {
   "cell_type": "code",
   "execution_count": null,
   "metadata": {},
   "outputs": [],
   "source": [
    "from random import randint\n",
    "from copy import deepcopy\n",
    "N = 100\n",
    "nb_erreurs = 0\n",
    "for i in range(100) :\n",
    "    tab1 = [randint(1,N) for j in range(50)]\n",
    "    tab2 = deepcopy(tab1) # pour éviter la transformation de tab1\n",
    "    tab2 = tri_insertion(tab2)\n",
    "    tab3 = deepcopy(tab1) # pour éviter la transformation de tab1\n",
    "    tab3.sort()\n",
    "    if not tab2 == tab3 :\n",
    "        nb_erreurs += 1\n",
    "print(\"votre fonction a un pourcentage d'erreurs de : \",nb_erreurs)\n",
    "    "
   ]
  },
  {
   "cell_type": "markdown",
   "metadata": {},
   "source": [
    "Déterminer la complexité de l'algorithme de sélection ainsi que ses variants."
   ]
  },
  {
   "cell_type": "code",
   "execution_count": null,
   "metadata": {},
   "outputs": [],
   "source": []
  }
 ],
 "metadata": {
  "kernelspec": {
   "display_name": "Python 3",
   "language": "python",
   "name": "python3"
  },
  "language_info": {
   "codemirror_mode": {
    "name": "ipython",
    "version": 3
   },
   "file_extension": ".py",
   "mimetype": "text/x-python",
   "name": "python",
   "nbconvert_exporter": "python",
   "pygments_lexer": "ipython3",
   "version": "3.7.4"
  }
 },
 "nbformat": 4,
 "nbformat_minor": 2
}

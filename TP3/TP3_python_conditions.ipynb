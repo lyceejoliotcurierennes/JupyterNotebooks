{
 "cells": [
  {
   "cell_type": "markdown",
   "metadata": {},
   "source": [
    "# NSI"
   ]
  },
  {
   "cell_type": "markdown",
   "metadata": {},
   "source": [
    " # séance 3 : Python - Les structures conditionnelles"
   ]
  },
  {
   "cell_type": "markdown",
   "metadata": {},
   "source": [
    "## 1. Les différentes structures"
   ]
  },
  {
   "cell_type": "markdown",
   "metadata": {},
   "source": [
    "### 1.1. if ..."
   ]
  },
  {
   "cell_type": "markdown",
   "metadata": {},
   "source": [
    "La structure de base est :"
   ]
  },
  {
   "cell_type": "code",
   "execution_count": null,
   "metadata": {},
   "outputs": [],
   "source": [
    "if <condition> :\n",
    "    <instructions>"
   ]
  },
  {
   "cell_type": "markdown",
   "metadata": {},
   "source": [
    "**Définition :** Un **algorigramme** est une représentation graphique normalisée de l'enchaînement des opérations et des décisions effectuées par un programme d'ordinateur. (source : wikipédia)"
   ]
  },
  {
   "cell_type": "markdown",
   "metadata": {},
   "source": [
    "**Exemple 1 : Moyenne pondérée** :\n",
    "<img src=\"exo1.png\"/>"
   ]
  },
  {
   "cell_type": "markdown",
   "metadata": {},
   "source": [
    "**Exercice** : Utilisez la fonction **moyenne_ponderee()** du TP précédent et modifiez le programme principal pour mettre en oeuvre l'algorigramme ci-dessus."
   ]
  },
  {
   "cell_type": "code",
   "execution_count": null,
   "metadata": {},
   "outputs": [],
   "source": [
    "def moyenne_ponderee(ds, tp, prj):\n",
    "    # à compléter\n",
    "    \n",
    "# programme principal\n",
    "#   lecture des valeurs, à compléter\n",
    "\n",
    "moyenne = moyenne_ponderee(note_ds, note_tp, note_prj)\n",
    "\n",
    "if moyenne < 10 :\n",
    "    print(\"Revenez l'année prochaine.\")\n",
    "    \n",
    "# afficher la moyenne, à compléter\n"
   ]
  },
  {
   "cell_type": "markdown",
   "metadata": {},
   "source": [
    "Pour mémoire : les opérateurs de comparaison sont :"
   ]
  },
  {
   "cell_type": "markdown",
   "metadata": {},
   "source": [
    "| opérateur | |  \n",
    "| --- | --- |  \n",
    "| a == b | a est égal à b |\n",
    "| a != b | a est différent de b |\n",
    "| a < b | a est inférieur à b |\n",
    "| a <= b | a est inférieur ou égal à b |\n",
    "| a > b | a est supérieur à b |\n",
    "| a >= b | a est supérieur ou égal à b |"
   ]
  },
  {
   "cell_type": "markdown",
   "metadata": {},
   "source": [
    "### 1.2. if ... else ..."
   ]
  },
  {
   "cell_type": "markdown",
   "metadata": {},
   "source": [
    "La structure de base est :"
   ]
  },
  {
   "cell_type": "code",
   "execution_count": null,
   "metadata": {},
   "outputs": [],
   "source": [
    "if <condition> :\n",
    "    <instructions_si>\n",
    "else :\n",
    "    <instructions_sinon>"
   ]
  },
  {
   "cell_type": "markdown",
   "metadata": {},
   "source": [
    "Traduire en Python l'algorigramme ci-dessous (voir exercice 3 du TP précédent)."
   ]
  },
  {
   "cell_type": "markdown",
   "metadata": {},
   "source": [
    "<img src=\"exo2.png\"/>"
   ]
  },
  {
   "cell_type": "code",
   "execution_count": null,
   "metadata": {},
   "outputs": [],
   "source": [
    "# Ecrire le programme ici"
   ]
  },
  {
   "cell_type": "markdown",
   "metadata": {},
   "source": [
    "### 1.3. if ... elif ... else ..."
   ]
  },
  {
   "cell_type": "markdown",
   "metadata": {},
   "source": [
    "La structure de base est :"
   ]
  },
  {
   "cell_type": "code",
   "execution_count": null,
   "metadata": {},
   "outputs": [],
   "source": [
    "if <condition1> :\n",
    "    <instructions1>\n",
    "elif <condition2> :\n",
    "    <instructions2>\n",
    "elif <condition3> :\n",
    "    <instructions3>\n",
    "else :\n",
    "    <instructions_sinon>"
   ]
  },
  {
   "cell_type": "markdown",
   "metadata": {},
   "source": [
    "Recopier ci-dessous le programme du premier exercice et ajouter l'affichage des mentions au bac.<br>\n",
    "Rappel :\n",
    "- si note >= 16 : mention \"très bien\"\n",
    "- sinon si note >= 14 : mention \"bien\"\n",
    "- sinon si note >= 12 : mention \"assez bien\"\n",
    "- sinon si note >= 10 : pas de mention\n",
    "- sinon : pas de bac"
   ]
  },
  {
   "cell_type": "code",
   "execution_count": null,
   "metadata": {},
   "outputs": [],
   "source": [
    "# copier ici le programme"
   ]
  },
  {
   "cell_type": "markdown",
   "metadata": {},
   "source": [
    "## 2. Les assertions"
   ]
  },
  {
   "cell_type": "markdown",
   "metadata": {},
   "source": [
    "**Définition** : En programmation informatique, une **assertion** est une expression qui doit être évaluée à vrai. Si cette évaluation échoue elle peut mettre fin à l'exécution du programme."
   ]
  },
  {
   "cell_type": "markdown",
   "metadata": {},
   "source": [
    "Exemple 1 : conditions de domaine de valeurs"
   ]
  },
  {
   "cell_type": "code",
   "execution_count": null,
   "metadata": {},
   "outputs": [],
   "source": [
    "note = 21\n",
    "assert 0 <= note <= 20"
   ]
  },
  {
   "cell_type": "markdown",
   "metadata": {},
   "source": [
    "Exemple 2 : conditions sur les types "
   ]
  },
  {
   "cell_type": "code",
   "execution_count": null,
   "metadata": {},
   "outputs": [],
   "source": [
    "def somme(a, b) :\n",
    "    assert type(a) is int\n",
    "    assert type(b) is int\n",
    "    return a + b\n",
    "\n",
    "somme(10, 20)\n",
    "somme(10, \"Coucou\")"
   ]
  },
  {
   "cell_type": "markdown",
   "metadata": {},
   "source": [
    "Exercice : Ajouter dans le programme ci-dessous les assertions nécessaires pour vérifier que l'argument passé à la fonction *racine_carree* soit de type **float** et soit **positif ou nul**. Essayer le programme en changeant la valeur passée en argument (dernière ligne de code)."
   ]
  },
  {
   "cell_type": "code",
   "execution_count": null,
   "metadata": {},
   "outputs": [],
   "source": [
    "def racine_carre(nb):\n",
    "    # ajouter les assertions ici\n",
    "    return nb ** 0.5\n",
    "\n",
    "print(racine_carre(9.0))"
   ]
  },
  {
   "cell_type": "markdown",
   "metadata": {},
   "source": [
    "## 3. Les booléens"
   ]
  },
  {
   "cell_type": "markdown",
   "metadata": {},
   "source": [
    "Un **booléen** est un type de données qui ne peut prendre que deux valeurs : vrai ou faux. <br>\n",
    "En Python, ces valeurs sont notées **True** et **False**.<br>\n",
    "exemple (source : Wikilivres : https://fr.wikibooks.org/wiki/Programmation_Python/Booléens) :"
   ]
  },
  {
   "cell_type": "code",
   "execution_count": null,
   "metadata": {},
   "outputs": [],
   "source": [
    "a = 6\n",
    "b = 7\n",
    "print(1, a == 6)\n",
    "print(2, a == 7)\n",
    "print(3, a == 6 and b == 7)\n",
    "print(4, a == 7 and b == 7)\n",
    "print(5, not a == 7 and b == 7)\n",
    "print(6, a == 7 or b == 7)\n",
    "print(7, a == 7 or b == 6)\n",
    "print(8, not (a == 7 and b == 6))\n",
    "print(9, not a == 7 and b == 6)"
   ]
  },
  {
   "cell_type": "markdown",
   "metadata": {},
   "source": [
    "### 3.1 L'opérateur *and*"
   ]
  },
  {
   "cell_type": "markdown",
   "metadata": {},
   "source": [
    "L'opérateur ***and*** signifie que si les deux expressions qui l'entourent sont vraies alors toute l'expression l'est également, autrement elle est fausse.<br>\n",
    "Si la première expression est fausse, Python ne vérifie pas la seconde car il sait que toute l'expression est fausse."
   ]
  },
  {
   "cell_type": "markdown",
   "metadata": {},
   "source": [
    "| expression | résultat |  \n",
    "| --- | --- |  \n",
    "| False **and** False | False |\n",
    "| False **and** True | False |\n",
    "| True **and** False | False |\n",
    "| True **and** True | True |"
   ]
  },
  {
   "cell_type": "markdown",
   "metadata": {},
   "source": [
    "### 3.2 L'opérateur *or*"
   ]
  },
  {
   "cell_type": "markdown",
   "metadata": {},
   "source": [
    "L'opérateur ***or*** retourne vrai si la première expression est vraie, si la seconde expression est vraie ou si les deux le sont. Si aucune n'est vraie il retourne faux."
   ]
  },
  {
   "cell_type": "markdown",
   "metadata": {},
   "source": [
    "| expression | résultat |  \n",
    "| --- | --- |  \n",
    "| False **or** False | False |\n",
    "| False **or** True | True |\n",
    "| True **or** False | True |\n",
    "| True **or** True | True |"
   ]
  },
  {
   "cell_type": "markdown",
   "metadata": {},
   "source": [
    "### 3.3 L'opérateur *not*"
   ]
  },
  {
   "cell_type": "markdown",
   "metadata": {},
   "source": [
    "L'opérateur ***not*** retourne l'opposé d'une expression."
   ]
  },
  {
   "cell_type": "markdown",
   "metadata": {},
   "source": [
    "| expression | résultat |  \n",
    "| --- | --- |  \n",
    "| **not** False | True |\n",
    "| **not** True | False |"
   ]
  },
  {
   "cell_type": "markdown",
   "metadata": {},
   "source": [
    "### 3.4 Priorité des opérateurs"
   ]
  },
  {
   "cell_type": "markdown",
   "metadata": {},
   "source": [
    "Comme la multiplication est prioritaire sur l'addition, ***not*** est prioritaire sur ***and*** qui est prioritaire sur ***or***."
   ]
  },
  {
   "cell_type": "code",
   "execution_count": null,
   "metadata": {},
   "outputs": [],
   "source": [
    "a = True\n",
    "b = True\n",
    "c = False\n",
    "print(1, a or b and c)\n",
    "print(2, (a or b) and c)\n",
    "print(3, not a and c)\n",
    "print(3, not (a and c))"
   ]
  },
  {
   "cell_type": "markdown",
   "metadata": {},
   "source": [
    "## 4. Exercices"
   ]
  },
  {
   "cell_type": "markdown",
   "metadata": {},
   "source": [
    "**Exercice 1 : à la roulette** : \n",
    "Règle simplifiée du jeu de roulette : \n",
    "- le joueur mise sur un numéro compris entre 0 et 49. En choisissant son numéro il y dépose la somme qu'il souhaite miser ;\n",
    "- les numéros pairs sont de couleur noire et les numéros impairs de couleur rouge\n",
    "- si le numéro gagnant est celui sur lequel le joueur a misé, le croupier lui remet 3 fois la somme misée \n",
    "- sinon, le croupier regarde si le numéro misé par le joueur est de la même couleur que le numéro gagnant : dans ce cas, le croupier lui remet 50 % de la somme misée ; sinon, le joueur perd sa mise.  \n",
    " \n",
    "a) Sur le document réponse, construire l'organigramme correspondant. <br>\n",
    "b) Dans la cellule ci-dessous, écrire une fonction nommée roulette() qui passe en argument la mise et le numéro choisi par le joueur, tire aléatoirement un nombre compris entre 0 et 49 [randint(0,49)] et retourne la somme gagnée par le joueur.<br>\n",
    "Dans le programme principal, faire entrer la mise et le numéro choisi par l'utilisateur puis afficher la somme gagnée.\n",
    "    "
   ]
  },
  {
   "cell_type": "code",
   "execution_count": 13,
   "metadata": {},
   "outputs": [],
   "source": [
    "# appel à la bibliothèque random : ne pas modifier\n",
    "from random import randint\n",
    "\n",
    "# définition de la fonction à compléter\n",
    "\n",
    "# programme principal à compléter\n"
   ]
  },
  {
   "cell_type": "markdown",
   "metadata": {},
   "source": [
    "**Exercice 2 : année bissextile ?** : <br>\n",
    "a) Sur le document réponse, construire l'organigramme correspondant.<br>\n",
    "b) Dans la cellule ci-dessous, écrire une fonction nommée est_bissextile() qui détermine et retourne si une année passée en argument est bissextile ou non.  \n",
    "Dans le programme principal, prévoir des assertions ainsi qu'un appel à la fonction avec une année entrée par l'utilisateur."
   ]
  },
  {
   "cell_type": "code",
   "execution_count": null,
   "metadata": {},
   "outputs": [],
   "source": []
  },
  {
   "cell_type": "markdown",
   "metadata": {},
   "source": [
    "**Exercice 3 : Comparaison de nombre réels** : Un ordinateur ne peut pas stocker la valeur exacte d'un nombre réel mais une valeur approchée, ce qui donne parfois des résultats surprenants : Exécutez la cellule suivante."
   ]
  },
  {
   "cell_type": "code",
   "execution_count": null,
   "metadata": {},
   "outputs": [],
   "source": [
    "0.1 + 0.2 == 0.3"
   ]
  },
  {
   "cell_type": "markdown",
   "metadata": {},
   "source": [
    "Créez une fonction nommée est_egale() qui recevra 3 arguments :\n",
    "- a : la première valeur à comparer\n",
    "- b : la deuxième valeur à comparer\n",
    "- e : la différence admise\n",
    "\n",
    "Cette fonction retournera True si la différence entre a et b n'excède pas e (en valeur absolue), sinon elle retournera False.\n",
    "Mettez dans la fonction **une seule assertion** pour vérifier que **tous les arguments** sont de type **float**."
   ]
  },
  {
   "cell_type": "code",
   "execution_count": null,
   "metadata": {},
   "outputs": [],
   "source": []
  }
 ],
 "metadata": {
  "file_extension": ".py",
  "kernelspec": {
   "display_name": "Python 3",
   "language": "python",
   "name": "python3"
  },
  "language_info": {
   "codemirror_mode": {
    "name": "ipython",
    "version": 3
   },
   "file_extension": ".py",
   "mimetype": "text/x-python",
   "name": "python",
   "nbconvert_exporter": "python",
   "pygments_lexer": "ipython3",
   "version": "3.7.1"
  },
  "mimetype": "text/x-python",
  "name": "python",
  "npconvert_exporter": "python",
  "pygments_lexer": "ipython3",
  "version": 3
 },
 "nbformat": 4,
 "nbformat_minor": 2
}

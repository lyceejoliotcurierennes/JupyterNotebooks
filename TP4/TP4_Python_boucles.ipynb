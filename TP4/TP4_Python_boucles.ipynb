{
 "cells": [
  {
   "cell_type": "markdown",
   "metadata": {},
   "source": [
    "# NSI"
   ]
  },
  {
   "cell_type": "markdown",
   "metadata": {},
   "source": [
    " # séance 4 : Python - Les boucles"
   ]
  },
  {
   "cell_type": "markdown",
   "metadata": {},
   "source": [
    "## 1. Les différentes boucles"
   ]
  },
  {
   "cell_type": "markdown",
   "metadata": {},
   "source": [
    "### 1.1. while ..."
   ]
  },
  {
   "cell_type": "markdown",
   "metadata": {},
   "source": [
    "La structure de base est :"
   ]
  },
  {
   "cell_type": "code",
   "execution_count": null,
   "metadata": {},
   "outputs": [],
   "source": [
    "while <condition> :\n",
    "    <instructions>"
   ]
  },
  {
   "cell_type": "markdown",
   "metadata": {},
   "source": [
    "exemple 1 : Exécuter le programme suivant. Quel résultat obtient-on ? Que retourne la fonction len() ? (répondre sur le document réponse)"
   ]
  },
  {
   "cell_type": "code",
   "execution_count": null,
   "metadata": {},
   "outputs": [],
   "source": [
    "s = \"*\"\n",
    "while len(s) < 10 :\n",
    "    print(s)\n",
    "    s = s + \"*\"\n",
    "print(\"Programme fini\")"
   ]
  },
  {
   "cell_type": "markdown",
   "metadata": {},
   "source": [
    "exemple 2 : Exécuter le programme suivant. Quel résultat obtient-on ? Connaissez-vous une autre façon d'incrémenter i ? Si oui, précisez laquelle. (répondre sur le document réponse)"
   ]
  },
  {
   "cell_type": "code",
   "execution_count": null,
   "metadata": {},
   "outputs": [],
   "source": [
    "n = 5\n",
    "i = 0\n",
    "while i < 10 :\n",
    "    print(f\"{n} * {i} = {n*i}\")\n",
    "    i = i + 1\n",
    "print(\"Programme fini\")"
   ]
  },
  {
   "cell_type": "markdown",
   "metadata": {},
   "source": [
    "**Exercice 1**  : Ecrire ci-dessous un programme qui affiche les puissances de 2 de 2<sup>0</sup> à 2<sup>10</sup>."
   ]
  },
  {
   "cell_type": "code",
   "execution_count": null,
   "metadata": {},
   "outputs": [],
   "source": []
  },
  {
   "cell_type": "markdown",
   "metadata": {},
   "source": [
    "**Exercice 2 : algorithme d'Euclide** <br>\n",
    "Rappel : pour déterminer le PGCD (plus grand diviseur commun) entre deux nombres a et b :\n",
    "- on effectue la division euclidienne de a par b et on note r le reste. \n",
    "- Ensuite, b devient a et r devient b  et on recommence\n",
    "- Et on continue ainsi de suite jusqu'à ce qu'une division donne un reste égal à 0.\n",
    "- Dans cette méthode le PGCD est le dernier reste non nul.\n",
    "<img src=\"PGCD.png\"/>\n",
    "Compléter le code de la fonction ci-dessous. Placer des assertions pour vérifier que a et b soient bien des nombres entiers strictement positifs.<br>\n",
    "Pourquoi est-on sûr de sortir de la boucle ?"
   ]
  },
  {
   "cell_type": "code",
   "execution_count": null,
   "metadata": {},
   "outputs": [],
   "source": [
    "# la fonction\n",
    "def pgcd(a,b):\n",
    "    \"\"\"Cette fonction retourne le pgcd de deux entiers a et b\"\"\"\n",
    "    # Placer les assertions ici\n",
    "    \n",
    "    r=a%b  # calcul du reste\n",
    "    while r != 0:\n",
    "        # à compléter\n",
    "        return # à compléter\n",
    "\n",
    "# les assertions pour vérifier la fonction\n",
    "assert pgcd(13, 7)  == 1\n",
    "assert pgcd(25, 15) == 5"
   ]
  },
  {
   "cell_type": "markdown",
   "metadata": {},
   "source": [
    "*Remarque 1* : en Python, les commentaires sont introduits par le caractère #. <br>\n",
    "Il existe des commentaires particuliers, les **docstrings**, encadrés par les caractères \"\"\" : constitué d'une ou plusieurs lignes, ils permettent d'expliquer les fonctionnalités et les paramètres d'une fonction. <br>\n",
    "Le docstring de la fonction précédente peut être lu en utilisant la fonction help.<br>"
   ]
  },
  {
   "cell_type": "code",
   "execution_count": null,
   "metadata": {},
   "outputs": [],
   "source": [
    "help(pgcd)"
   ]
  },
  {
   "cell_type": "markdown",
   "metadata": {},
   "source": [
    "*Remarque 2* : avec la boucle **while** apparaît un comportement problématique possible : la ***non-terminaison***.<br>\n",
    "exemple :"
   ]
  },
  {
   "cell_type": "code",
   "execution_count": null,
   "metadata": {},
   "outputs": [],
   "source": [
    "while(True):\n",
    "    print(\"Bonjour\")"
   ]
  },
  {
   "cell_type": "markdown",
   "metadata": {},
   "source": [
    "Pour mémoire : les **opérateurs d'affectation augmentés**, sont :"
   ]
  },
  {
   "cell_type": "markdown",
   "metadata": {},
   "source": [
    "| opérateur | équivaut à|  \n",
    "| --- | --- |  \n",
    "| a += 1 | a = a + 1 |\n",
    "| b -= 2 | b = b - 2 |\n",
    "| a \\*= 3 | a = a \\* 3 |\n",
    "| b \\*\\*= 4 | b = b \\*\\* 4 |\n",
    "| a /= 5 | a = a / 5 |\n",
    "| b //= 6 | b = b // 6 |\n"
   ]
  },
  {
   "cell_type": "markdown",
   "metadata": {},
   "source": [
    "Pour chaque opérateur mathématique, +, -, /, //, \\*, \\*\\*, il existe un opérateur d’affectation augmenté +=, -=, /=, //=, \\*=, \\*\\*=. <br>\n",
    "Attention : Quand on utilise les opérateurs d’affectations augmentés, il ne faut pas mettre d’espaces entre les différents symboles. Ecrivez += et non pas +  =."
   ]
  },
  {
   "cell_type": "markdown",
   "metadata": {},
   "source": [
    "### 1.2. for ... in …"
   ]
  },
  {
   "cell_type": "markdown",
   "metadata": {},
   "source": [
    "La structure de base est :"
   ]
  },
  {
   "cell_type": "code",
   "execution_count": null,
   "metadata": {},
   "outputs": [],
   "source": [
    "for <variable> in <ensemble de valeurs> :\n",
    "    <instructions>"
   ]
  },
  {
   "cell_type": "markdown",
   "metadata": {},
   "source": [
    "exemple : "
   ]
  },
  {
   "cell_type": "code",
   "execution_count": null,
   "metadata": {},
   "outputs": [],
   "source": [
    "for n in 1, 2, 3 :\n",
    "    print(n)\n",
    "for s in 'a', 'b', 'c' :\n",
    "    print(s)\n",
    "for s in \"Bonjour\" : # une chaîne de caractères est un ensemble\n",
    "    print(s)"
   ]
  },
  {
   "cell_type": "markdown",
   "metadata": {},
   "source": [
    "**Fonction range() :** elle permet de générer un ensemble de valeurs numériques. <br>\n",
    "exemples :"
   ]
  },
  {
   "cell_type": "markdown",
   "metadata": {},
   "source": [
    "| fonction | ensemble de valeurs |  \n",
    "| --- | --- |  \n",
    "| range(4) | 0, 1, 2, 3 |\n",
    "| range(2,5) | 2, 3, 4 |\n",
    "| range(1,10,2) | 1, 3, 5, 7, 9 |"
   ]
  },
  {
   "cell_type": "markdown",
   "metadata": {},
   "source": [
    "**Exercice 3** : Comme pour l'exercice 1, écrire ci-dessous un programme qui affiche les puissances de 2 de 2<sup>0</sup> à 2<sup>10</sup> mais cette fois avec une boucle ***for***."
   ]
  },
  {
   "cell_type": "code",
   "execution_count": null,
   "metadata": {},
   "outputs": [],
   "source": []
  },
  {
   "cell_type": "markdown",
   "metadata": {},
   "source": [
    "**Exercice 4 : Fonction factorielle**<br>\n",
    "la factorielle d'un entier naturel n est le produit des nombres entiers strictement positifs inférieurs ou égaux à n. Cette opération est notée avec un point d'exclamation, n!, ce qui se lit soit « factorielle de n », soit « factorielle n » soit « n factorielle ».<br>\n",
    "Exemple : 5! = 1 * 2 * 3 * 4 * 5<br>\n",
    "Par convention 0! = 1<br>\n",
    "Ecrire ci-dessous la fonction factorielle(n) qui calcule et retourne n! grâce à une boucle for."
   ]
  },
  {
   "cell_type": "code",
   "execution_count": null,
   "metadata": {},
   "outputs": [],
   "source": [
    "def factorielle(n):\n",
    "    # à compléter\n",
    "    \n",
    "# Vérification\n",
    "assert factorielle(0) == 1\n",
    "assert factorielle(1) == 1\n",
    "assert factorielle(5) == 120"
   ]
  },
  {
   "cell_type": "markdown",
   "metadata": {},
   "source": [
    "**Exercice 5** : On empile des balles de tennis comme le montre l’image ci-dessous.\n",
    "<img src=\"tennis.png\"/>\n",
    "Étage 1 : 1 balle<br>\n",
    "Étage 2 : 4 balles<br>\n",
    "Étage 3 : 9 balles<br>\n",
    "et ainsi de suite ...<br>\n",
    "Écrire ci-dessous une fonction qui donne le nombre total de balles de tennis nécessaires pour réaliser un empilement de 100 étages."
   ]
  },
  {
   "cell_type": "code",
   "execution_count": null,
   "metadata": {},
   "outputs": [],
   "source": [
    "def nombre_de_balles():\n",
    "    # à compléter\n",
    "\n",
    "nb = nombre_de_balles()\n",
    "print(nb)"
   ]
  },
  {
   "cell_type": "markdown",
   "metadata": {},
   "source": [
    "## 2. Imbrication de boucles"
   ]
  },
  {
   "cell_type": "markdown",
   "metadata": {},
   "source": [
    "exemple : Exécuter le programme ci-dessous. Quel résultat obtient-on ? A quoi sert le paramètre end dans la première fonction print() ? (répondre sur le document réponse)."
   ]
  },
  {
   "cell_type": "code",
   "execution_count": null,
   "metadata": {},
   "outputs": [],
   "source": [
    "for i in range(4) :\n",
    "    for j in range(10) :\n",
    "        print(\"#\", end=\"\")\n",
    "    print()"
   ]
  },
  {
   "cell_type": "markdown",
   "metadata": {},
   "source": [
    "## 3. Exercices"
   ]
  },
  {
   "cell_type": "markdown",
   "metadata": {},
   "source": [
    "**Exercice 6 : algorithme de Syracuse** : <br>\n",
    "On définit une suite de nombres de la manière suivante : \n",
    "- le premier nombre u est 1000\n",
    "- si un nombre est pair, le suivant est sa moitié ; \n",
    "- sinon, si le nombre est distinct de 1, le suivant est son triple augmenté de 1 ;\n",
    "- sinon, le nombre 1 est le dernier élément de la suite.\n",
    "Construire sur le document réponse l'algorigramme correspondant.\n",
    "Ecrire ci-dessous un programme qui affiche la suite des nombres : cette suite \"s'arrête-t-elle\" ?\n",
    "Modifier le programme de façon à demander à l'utilisateur de choisir le nombre de départ. \n",
    "Peut-on être sûr que la suite de nombres va s'arrêter ?"
   ]
  },
  {
   "cell_type": "code",
   "execution_count": null,
   "metadata": {},
   "outputs": [],
   "source": []
  },
  {
   "cell_type": "markdown",
   "metadata": {},
   "source": [
    "**Exercice 7 : algorithme de Babylone** : \n",
    "<img src=\"tablette.png\">\n",
    "Sur la photographie de la tablette YBC 7289 annotée, les nombres écrits dans le système babylonien donnent une approximation de la racine de 2 sous la forme \n",
    "1 24 51 10, en sexagésimal, \n",
    "c'est à dire  1 + 24/60 + 51/60<sup>2</sup> + 10/60<sup>3</sup>.<br>\n",
    "Les historiens des mathématiques se sont interrogés pour savoir comment les Babyloniens avaient obtenu cette \n",
    "excellente approximation. Voici une réponse possible : <br>\n",
    "- racine de 2 est le côté d’un carré dont l’aire est 2, comment construire un tel carré ? \n",
    "- L’idée est de s’en approcher pas à pas de la façon suivante : on part d’un rectangle de côtés respectifs 1 et 2, son aire est donc 2. \n",
    "- On va rendre ce rectangle plus « trapu » en construisant un autre rectangle . Pour cela : on choisit pour longueur la moyenne des dimensions du précédent rectangle puis on choisit la largeur de façon à ce que l’aire soit encore 2.\n",
    "- Le nombre que l’on cherche, à savoir racine de 2,  est compris entre ces deux dimensions.\n",
    "- Puis, on recommence autant de fois qu’on le souhaite. \n",
    "Compléter le document réponse et écrire ci-dessous un programme qui fournisse un encadrement de racine de 2 au bout de 5 étapes.\n",
    "Modifier le programme pour déterminer le nombre d'étapes nécessaire pour obtenir une approximation à 10<sup>-10</sup> près."
   ]
  },
  {
   "cell_type": "code",
   "execution_count": null,
   "metadata": {},
   "outputs": [],
   "source": []
  },
  {
   "cell_type": "markdown",
   "metadata": {},
   "source": [
    "**Exercice 8 : ppcm** : <br>\n",
    "Écrire un programme qui détermine le plus petit multiple commun à deux nombres entiers entrés au clavier.<br>\n",
    "a) Sur le document réponse, construire l'organigramme correspondant.<br>\n",
    "b) Dans la cellule ci-dessous, écrire une fonction nommée ppcm() qui détermine le plus petit commun multiple à deux nombres entiers passés en arguments.\n",
    "Dans le programme principal, prévoir des assertions ainsi qu'un appel à la fonction avec deux entiers entrés par l'utilisateur."
   ]
  },
  {
   "cell_type": "code",
   "execution_count": null,
   "metadata": {},
   "outputs": [],
   "source": []
  },
  {
   "cell_type": "markdown",
   "metadata": {},
   "source": [
    "**Exercice 9 : population de renards** : <br>\n",
    "Dans un parc régional, on étudie une espèce de renards. Cette population était de 1 240 renards à la fin de l’année 2016. On estime à 15 % par an la baisse du nombre de renards . On suppose que cette évolution restera identique pour les années à venir. Des scientifiques considèrent que l’espèce des renards présents dans le parc sera en situation d’extinction à partir du moment où le nombre de renards deviendra strictement inférieur à 100.<br>\n",
    "- Ecrire une fonction pop_renard() qui retourne la population de renards au bout d'un nombre d'années passé en argument.\n",
    "- Tester cette fonction pour les valeurs indiquées sur le document réponse.\n",
    "- Utiliser la fonction pour déterminer au bout de combien d'années les renards seront en situation d'extinction dans le parc.\n",
    "Compléter le document réponse avec les résultats obtenus."
   ]
  },
  {
   "cell_type": "code",
   "execution_count": null,
   "metadata": {},
   "outputs": [],
   "source": []
  }
 ],
 "metadata": {
  "file_extension": ".py",
  "kernelspec": {
   "display_name": "Python 3",
   "language": "python",
   "name": "python3"
  },
  "language_info": {
   "codemirror_mode": {
    "name": "ipython",
    "version": 3
   },
   "file_extension": ".py",
   "mimetype": "text/x-python",
   "name": "python",
   "nbconvert_exporter": "python",
   "pygments_lexer": "ipython3",
   "version": "3.7.4"
  },
  "mimetype": "text/x-python",
  "name": "python",
  "npconvert_exporter": "python",
  "pygments_lexer": "ipython3",
  "version": 3
 },
 "nbformat": 4,
 "nbformat_minor": 2
}

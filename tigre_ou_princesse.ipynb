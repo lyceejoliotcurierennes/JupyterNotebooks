{
 "cells": [
  {
   "cell_type": "markdown",
   "metadata": {},
   "source": [
    "# L'histoire de la princesse et du tigre"
   ]
  },
  {
   "cell_type": "markdown",
   "metadata": {},
   "source": [
    "tirée de \"le livre qui rend fou\" de Raymon Smullyan"
   ]
  },
  {
   "cell_type": "markdown",
   "metadata": {},
   "source": [
    "**Contexte** : un prisonnier doit choisir entre deux cellules, dont l'une cache une princesse et l'autre un tigre. S'il choisit la princesse, il doit l'épouser, mais s'il tombe sur le tigre, il est dévoré.  \n",
    "A priori, toutes les combinaisons sont possibles : 2 tigres, deux princesses ou un de chaque.  \n",
    "Le roi d'une contrée lointaine décide d'adapter ce procédé en affichant des inscriptions sur les portes des cellules ; il fait passer plusieurs prisonniers par jour.\n"
   ]
  },
  {
   "cell_type": "code",
   "execution_count": null,
   "metadata": {},
   "outputs": [],
   "source": [
    "possibles=[{1:\"tigre\",2:\"tigre\"},{1:\"tigre\",2:\"princesse\"},{1:\"princesse\",2:\"tigre\"},{1:\"princesse\",2:\"princesse\"}]"
   ]
  },
  {
   "cell_type": "markdown",
   "metadata": {},
   "source": [
    "## Premier jour"
   ]
  },
  {
   "cell_type": "markdown",
   "metadata": {},
   "source": [
    "### Première épreuve  \n",
    "- La cellule 1 affiche \"il y a une princesse dans cette cellule et un tigre dans l'autre\".\n",
    "- La cellule 2 affiche \"il y a une princesse dans une cellule et il y a un tigre dans une cellule\".\n",
    "\n",
    "   \n",
    "Le roi affirme qu'une des affiches dit la vérité et l'autre ment …   \n",
    "  \n",
    "On peut traduire ce problème en Python à l'aide de fonctions logiques comme suit et afficher ce qu'il y a dans les cellules afin d'aider le prisonnier à faire son choix.\n"
   ]
  },
  {
   "cell_type": "code",
   "execution_count": null,
   "metadata": {},
   "outputs": [],
   "source": [
    "for c in possibles :\n",
    "    A1 = (c[1]==\"princesse\") and (c[2]==\"tigre\")\n",
    "    A2 = (\"princesse\" in c.values()) and (\"tigre\" in c.values())\n",
    "    if A1 + A2 == 1 :\n",
    "        print(c)"
   ]
  },
  {
   "cell_type": "markdown",
   "metadata": {},
   "source": [
    "### Deuxième épreuve   \n",
    "- La cellule 1 affiche \"une au moins des deux cellules contient une princesse\"  \n",
    "- La cellule 2 affiche \"il y a un tigre dans l'autre cellule\". \n",
    "   \n",
    "   \n",
    "Le roi affirme que les deux affiches sont soient toutes les deux vraies soient toutes les deux fausses.\n",
    "  \n",
    "Traduire ce problème en Python à l'aide des fonctions logiques et afficher ce qu'il y a dans les cellules afin d'aider le prisonnier à faire son choix en essayant de garder l'architecture proposée pour le code."
   ]
  },
  {
   "cell_type": "code",
   "execution_count": null,
   "metadata": {},
   "outputs": [],
   "source": [
    "for c in possibles :\n",
    "    # A1 = \n",
    "    # A2 = \n",
    "    #if #à compléter :\n",
    "        print(c)"
   ]
  },
  {
   "cell_type": "markdown",
   "metadata": {},
   "source": [
    "### Troisième épreuve  \n",
    "- La cellule 1 affiche \"il y a un tigre dans cette cellule ou il y a une princesse dans l'autre\".   \n",
    "- La cellule 2 affiche \"il y a une princesse dans l'autre cellule\". \n",
    "   \n",
    "   \n",
    "Le roi affirme que les deux affiches sont soient toutes les deux vraies soient toutes les deux fausses.\n",
    "  \n",
    "Traduire ce problème en Python à l'aide des fonctions logiques et afficher ce qu'il y a dans les cellules afin d'aider le prisonnier à faire son choix en essayant de garder l'architecture proposée pour le code."
   ]
  },
  {
   "cell_type": "code",
   "execution_count": null,
   "metadata": {},
   "outputs": [],
   "source": [
    "for c in possibles :\n",
    "    # A1 = \n",
    "    # A2 = \n",
    "    #if #à compléter :\n",
    "        print(c)"
   ]
  },
  {
   "cell_type": "markdown",
   "metadata": {},
   "source": [
    "## Deuxième jour"
   ]
  },
  {
   "cell_type": "markdown",
   "metadata": {},
   "source": [
    "Fâché que tous les prisonniers du premier jour s'en soient sortis, le roi décide ceci :   \n",
    "- l'affiche de la cellule 1 dira la vérité quand il y aura une princesse à l'intérieur et mentira quand ce sera un tigre ; \n",
    "- l'affiche de la cellule 2 fera le contraire : elle dira la vérité quand il y aura un tigre à l'intérieur et mentira quand ce sera une princesse. "
   ]
  },
  {
   "cell_type": "markdown",
   "metadata": {},
   "source": [
    "### Quatrième épreuve. \n",
    "- La cellule 1 affiche \"les deux cellules contiennent des princesses\".  \n",
    "- La cellule 2 affiche \"les deux cellules contiennent des princesses\". \n",
    "  \n",
    "  \n",
    "Traduire ce problème en Python à l'aide des fonctions logiques et afficher ce qu'il y a dans les cellules afin d'aider le prisonnier à faire son choix en essayant de garder l'architecture proposée pour le code."
   ]
  },
  {
   "cell_type": "code",
   "execution_count": null,
   "metadata": {},
   "outputs": [],
   "source": []
  },
  {
   "cell_type": "markdown",
   "metadata": {},
   "source": [
    "### Cinquième épreuve. \n",
    "- La cellule 1 affiche \"une cellule au moins contient une princesse\".  \n",
    "- La cellule 2 affiche \"l'autre cellule contient une princesse\". \n",
    "  \n",
    "  \n",
    "Traduire ce problème en Python à l'aide des fonctions logiques et afficher ce qu'il y a dans les cellules afin d'aider le prisonnier à faire son choix en essayant de garder l'architecture proposée pour le code."
   ]
  },
  {
   "cell_type": "code",
   "execution_count": null,
   "metadata": {},
   "outputs": [],
   "source": []
  },
  {
   "cell_type": "markdown",
   "metadata": {},
   "source": [
    "### Sixième épreuve. \n",
    "- La cellule 1 affiche \"choisis n'importe quelle cellule, cela n'a pas d'importance\".  \n",
    "- La cellule 2 affiche \"il y a une princesse dans l'autre cellule\". \n",
    "  \n",
    "  \n",
    "Traduire ce problème en Python à l'aide des fonctions logiques et afficher ce qu'il y a dans les cellules afin d'aider le prisonnier à faire son choix en essayant de garder l'architecture proposée pour le code."
   ]
  },
  {
   "cell_type": "code",
   "execution_count": null,
   "metadata": {},
   "outputs": [],
   "source": []
  },
  {
   "cell_type": "markdown",
   "metadata": {},
   "source": [
    "### Septième épreuve. \n",
    "- La cellule 1 affiche \"choisis bien ta cellule, ça a de l'importance\".  \n",
    "- La cellule 2 affiche \"tu ferais mieux de choisir l'autre cellule\". \n",
    "  \n",
    "  \n",
    "Traduire ce problème en Python à l'aide des fonctions logiques et afficher ce qu'il y a dans les cellules afin d'aider le prisonnier à faire son choix en essayant de garder l'architecture proposée pour le code."
   ]
  },
  {
   "cell_type": "code",
   "execution_count": null,
   "metadata": {},
   "outputs": [],
   "source": []
  },
  {
   "cell_type": "markdown",
   "metadata": {},
   "source": [
    "### Huitième épreuve.   \n",
    "\n",
    "Le roi a oublié de coller les affiches sur les cellules : il les tend au prisonnier (pas forcément dans le bon ordre)\n",
    "- sur une est écrit \"les deux cellules contiennent des tigres\".  \n",
    "- sur l'autre est écrit \"cette cellule contient un tigre\". \n",
    "  \n",
    "  \n",
    "Traduire ce problème en Python à l'aide des fonctions logiques et afficher ce qu'il y a dans les cellules afin d'aider le prisonnier à faire son choix en essayant de garder l'architecture proposée pour le code."
   ]
  },
  {
   "cell_type": "code",
   "execution_count": null,
   "metadata": {},
   "outputs": [],
   "source": []
  },
  {
   "cell_type": "markdown",
   "metadata": {},
   "source": [
    "## Troisième jour"
   ]
  },
  {
   "cell_type": "markdown",
   "metadata": {},
   "source": [
    "Les prisonniers du deuxième jour étant ressortis saufs de leurs épreuves respectives, le roi,encore plus furieux, décide maintenant d'utiliser 3 cellules avec une princesse dans l'une d'elles et des tigres dans chacune des deux autres.  \n",
    "\n",
    "  \n",
    "Les combinaisons possibles sont regroupées dans la liste *cellules* ci-dessous"
   ]
  },
  {
   "cell_type": "code",
   "execution_count": null,
   "metadata": {},
   "outputs": [],
   "source": [
    "cellules=[{1:\"princesse\",2:\"tigre\",3:\"tigre\"},{1:\"tigre\",2:\"princesse\",3:\"tigre\"},{1:\"tigre\",2:\"tigre\",3:\"princesse\"}]"
   ]
  },
  {
   "cell_type": "markdown",
   "metadata": {},
   "source": [
    "### Neuvième épreuve. \n",
    "- La cellule 1 affiche \"il y a un tigre ici\".\n",
    "- La cellule 2 affiche \"cette cellule contient une princesse\". \n",
    "- La cellule 3 affiche \"il y a un tigre dans la cellule 2\".\n",
    "   \n",
    "   \n",
    "Le roi affirme qu'une seule des trois affiches est vraie, les autres sont fausses.\n",
    "  \n",
    "Traduire ce problème en Python à l'aide des fonctions logiques et afficher ce qu'il y a dans les cellules afin d'aider le prisonnier à faire son choix en essayant de garder l'architecture proposée pour le code."
   ]
  },
  {
   "cell_type": "code",
   "execution_count": null,
   "metadata": {},
   "outputs": [],
   "source": []
  },
  {
   "cell_type": "markdown",
   "metadata": {},
   "source": [
    "### Dixième épreuve. \n",
    "- La cellule 1 affiche \"il y a un tigre dans la cellule 2\".\n",
    "- La cellule 2 affiche \"ici il y a un tigre\". \n",
    "- La cellule 3 affiche \"la cellule 1 contient un tigre\".\n",
    "   \n",
    "   \n",
    "Le roi affirme que l'affiche collée sur la porte de la princesse dit la vérité et qu'une au moins des deux autres est fausse..\n",
    "  \n",
    "Traduire ce problème en Python à l'aide des fonctions logiques et afficher ce qu'il y a dans les cellules afin d'aider le prisonnier à faire son choix en essayant de garder l'architecture proposée pour le code."
   ]
  },
  {
   "cell_type": "code",
   "execution_count": null,
   "metadata": {},
   "outputs": [],
   "source": []
  },
  {
   "cell_type": "markdown",
   "metadata": {},
   "source": [
    "### Onzième épreuve. \n",
    "\n",
    "Le roi a modifié l'occupation des cellules : l'une contient une princesse, une autre un tigre et la restante est vide.\n",
    "\n",
    "- La cellule 1 affiche \"la cellule 3 est vide\".\n",
    "- La cellule 2 affiche \"le tigre est dans la cellule 1\". \n",
    "- La cellule 3 affiche \"cette cellule est vide\".\n",
    "   \n",
    "   \n",
    "Le roi affirme que l'affiche collée sur la porte de la princesse dit vrai et que celle du tigre est fausse ; il ne dit rien pour celle de la cellule vide.\n",
    "  \n",
    "Commencer par créer une liste des combinaisons possibles puis traduire ce problème en Python à l'aide des fonctions logiques et afficher ce qu'il y a dans les cellules afin d'aider le prisonnier à faire son choix en essayant de garder l'architecture proposée pour le code."
   ]
  },
  {
   "cell_type": "code",
   "execution_count": null,
   "metadata": {},
   "outputs": [],
   "source": []
  },
  {
   "cell_type": "markdown",
   "metadata": {},
   "source": [
    "## Quatrième jour"
   ]
  },
  {
   "cell_type": "markdown",
   "metadata": {},
   "source": [
    "### Dernière épreuve.   \n",
    "\n",
    "Le roi a décidé d'employer les grands moyens. Il utilise 9 cellules parmi lesquelles une seule contient une princesse. Les autres sont soit vides, soit contiennent un tigre. L'affiche de la princesse dit vrai, les affiches des tigres mentent.\n",
    "\n",
    "- La cellule 1 affiche \"la princesse est dans une cellule dont le numéro est impair\".\n",
    "- La cellule 2 affiche \"cette cellule est vide\". \n",
    "- La cellule 3 affiche \"l'affiche 5 est vraie ou l'affiche 7 est fausse\".\n",
    "- La cellule 4 affiche \"l'affiche 1 est fausse\".\n",
    "- La cellule 5 affiche \"l'affiche 2 ou l'affiche 4 est vraie\".\n",
    "- La cellule 6 affiche \"l'affiche 3 est fausse\".\n",
    "- La cellule 7 affiche \"la princesse n'est pas dans la cellule 1\".\n",
    "- La cellule 8 affiche \"cette cellule contient un tigre et la cellule 9 est vide\"\n",
    "- La cellule 9 affiche \"cette cellule contient un tigre et l'affiche 6 est fausse\"\n",
    "   \n",
    "  \n",
    "Traduire ce problème en Python à l'aide des fonctions logiques et afficher ce qu'il y a dans les cellules afin d'aider le prisonnier à faire son choix en essayant de garder l'architecture proposée pour le code."
   ]
  },
  {
   "cell_type": "code",
   "execution_count": null,
   "metadata": {},
   "outputs": [],
   "source": []
  }
 ],
 "metadata": {
  "kernelspec": {
   "display_name": "Python 3",
   "language": "python",
   "name": "python3"
  },
  "language_info": {
   "codemirror_mode": {
    "name": "ipython",
    "version": 3
   },
   "file_extension": ".py",
   "mimetype": "text/x-python",
   "name": "python",
   "nbconvert_exporter": "python",
   "pygments_lexer": "ipython3",
   "version": "3.7.4"
  }
 },
 "nbformat": 4,
 "nbformat_minor": 2
}

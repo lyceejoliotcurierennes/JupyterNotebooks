{
 "cells": [
  {
   "cell_type": "markdown",
   "metadata": {},
   "source": [
    "# Tuples"
   ]
  },
  {
   "cell_type": "markdown",
   "metadata": {},
   "source": [
    "<a href = \"https://python.doctor/page-apprendre-tuples-tuple-python\"> Source : Python-doctor </a>"
   ]
  },
  {
   "cell_type": "markdown",
   "metadata": {},
   "source": [
    "**Attention** : un tuple est une liste qui **ne** peut **plus** être modifiée : c'et un objet **non-mutable**."
   ]
  },
  {
   "cell_type": "markdown",
   "metadata": {},
   "source": [
    "## 1. Création et accès aux valeurs"
   ]
  },
  {
   "cell_type": "markdown",
   "metadata": {},
   "source": [
    "### Créer un tuple vide"
   ]
  },
  {
   "cell_type": "code",
   "execution_count": null,
   "metadata": {},
   "outputs": [],
   "source": [
    "tuple_vide=()\n",
    "print(\"tuple_vide est de type \",type(tuple_vide),\" et contient \",tuple_vide)"
   ]
  },
  {
   "cell_type": "markdown",
   "metadata": {},
   "source": [
    "### Créer un tuple contenant des valeurs"
   ]
  },
  {
   "cell_type": "markdown",
   "metadata": {},
   "source": [
    "#### Avec la syntaxe *rigoureuse* : "
   ]
  },
  {
   "cell_type": "code",
   "execution_count": null,
   "metadata": {},
   "outputs": [],
   "source": [
    "tuple_divers=(35,\"Rennes\",True)\n",
    "print(\"tuple_divers est de type \",type(tuple_divers),\" et contient \",tuple_divers)"
   ]
  },
  {
   "cell_type": "markdown",
   "metadata": {},
   "source": [
    "#### Sans les parenthèses : "
   ]
  },
  {
   "cell_type": "code",
   "execution_count": null,
   "metadata": {},
   "outputs": [],
   "source": [
    "un_tuple=1,2,3,4\n",
    "print(\"un_tuple est de type \",type(un_tuple),\" et contient \",un_tuple)"
   ]
  },
  {
   "cell_type": "markdown",
   "metadata": {},
   "source": [
    "*Remarques* : <br>\n",
    "<ul>\n",
    "    <li>les parenthèses ne sont pas obligatoires mais elle rendent le code plus lisible </li>\n",
    "    <li> <b>la virgule est obligatoire</b> même dans le cas d'un tuple à un seul élément. </li>\n",
    "    </ul>"
   ]
  },
  {
   "cell_type": "code",
   "execution_count": null,
   "metadata": {},
   "outputs": [],
   "source": [
    "faux_tuple1=(\"non tuple\")\n",
    "faux_tuple2=(4.5)\n",
    "vrai_tuple1=(\"tuple\",)\n",
    "vrai_tuple2=(5.4,)\n",
    "# vérification des types et contenus\n",
    "liste_tuples=[faux_tuple1,faux_tuple2,vrai_tuple1,vrai_tuple2]\n",
    "for element in liste_tuples :\n",
    "    print(\"cet élément est de type \",type(element),\" et contient \",element)\n"
   ]
  },
  {
   "cell_type": "markdown",
   "metadata": {},
   "source": [
    "##### Conséquence : on NE peut PAS construire directement un tuple par compréhension."
   ]
  },
  {
   "cell_type": "markdown",
   "metadata": {},
   "source": [
    "#### Créer un tuple à partir d'une liste : mon_tuple =  tuple(ma_liste)"
   ]
  },
  {
   "cell_type": "code",
   "execution_count": null,
   "metadata": {},
   "outputs": [],
   "source": [
    "ma_liste = [(i+1)**2 for i in range(10)]\n",
    "tuple_carres = tuple(ma_liste)\n",
    "print(\"tuple_carres contient : \",tuple_carres)"
   ]
  },
  {
   "cell_type": "markdown",
   "metadata": {},
   "source": [
    "#### Créer un tuple à partir d'une chaîne de caractères : mon_tuple=tuple(chaine)"
   ]
  },
  {
   "cell_type": "code",
   "execution_count": null,
   "metadata": {},
   "outputs": [],
   "source": [
    "apple=tuple(\"apple\")\n",
    "print(apple)"
   ]
  },
  {
   "cell_type": "markdown",
   "metadata": {},
   "source": [
    "### Concaténer deux tuples : tuple1 + tuple2"
   ]
  },
  {
   "cell_type": "code",
   "execution_count": null,
   "metadata": {},
   "outputs": [],
   "source": [
    "concat_tuple = un_tuple + tuple_divers\n",
    "print(\"le tuple concaténé contient : \",concat_tuple)"
   ]
  },
  {
   "cell_type": "markdown",
   "metadata": {},
   "source": [
    "### Récupérer une valeur "
   ]
  },
  {
   "cell_type": "markdown",
   "metadata": {},
   "source": [
    "#### Pour récupérer une valeur d'indice connu : mon_tuple[indice]"
   ]
  },
  {
   "cell_type": "code",
   "execution_count": null,
   "metadata": {},
   "outputs": [],
   "source": [
    "print(tuple_divers[1],\" est dans le département \",tuple_divers[0])"
   ]
  },
  {
   "cell_type": "markdown",
   "metadata": {},
   "source": [
    "**Rappel** : on ne peut pas modifier une valeur contenue dans un tuple."
   ]
  },
  {
   "cell_type": "code",
   "execution_count": null,
   "metadata": {},
   "outputs": [],
   "source": [
    "tuple_divers[0]=3500"
   ]
  },
  {
   "cell_type": "markdown",
   "metadata": {},
   "source": [
    "Remarque : pour contourner le caractère non-mutable du tuple, on peut passer transitoirement par une liste :"
   ]
  },
  {
   "cell_type": "code",
   "execution_count": null,
   "metadata": {},
   "outputs": [],
   "source": [
    "liste = list(tuple_divers)\n",
    "liste[0]=35000\n",
    "tuple_divers = tuple(liste)\n",
    "print(tuple_divers[1],\" a pour code postal \",tuple_divers[0])"
   ]
  },
  {
   "cell_type": "markdown",
   "metadata": {},
   "source": [
    "### Parcourir les valeurs"
   ]
  },
  {
   "cell_type": "code",
   "execution_count": null,
   "metadata": {},
   "outputs": [],
   "source": [
    "for valeur in tuple_divers :\n",
    "    print(valeur)"
   ]
  },
  {
   "cell_type": "markdown",
   "metadata": {},
   "source": [
    "### Tester si une valeur est dans un tuple"
   ]
  },
  {
   "cell_type": "code",
   "execution_count": null,
   "metadata": {},
   "outputs": [],
   "source": [
    "if \"Rennes\" in tuple_divers :\n",
    "    print(\"Rennes est dans le tuple\")\n",
    "print(\"45 est dans le tuple : \",45 in tuple_divers)"
   ]
  },
  {
   "cell_type": "markdown",
   "metadata": {},
   "source": [
    "### Déterminer le nombre de valeurs contenues dans un tuple :  len(nom_du_tuple)"
   ]
  },
  {
   "cell_type": "code",
   "execution_count": null,
   "metadata": {},
   "outputs": [],
   "source": [
    "print(\"tuple_divers contient \",len(tuple_divers),\" valeurs.\")"
   ]
  },
  {
   "cell_type": "markdown",
   "metadata": {},
   "source": [
    "Remarque : on **NE** peut **PAS** supprimer des valeurs d'un tuple. Par contre, on peut le \"détruire\" avec la fonction *del()*.<br>\n",
    "Attention : le tuple n'existe plus ensuite !"
   ]
  },
  {
   "cell_type": "code",
   "execution_count": null,
   "metadata": {},
   "outputs": [],
   "source": [
    "print(\"tuple_vide contient : \",tuple_vide)\n",
    "del(tuple_vide)\n",
    "print(\"tuple_vide contient : \",tuple_vide)"
   ]
  },
  {
   "cell_type": "markdown",
   "metadata": {},
   "source": [
    "### Compter le nombre d'occurences d'une valeur dans un tuple : nom_tuple.count(valeur)"
   ]
  },
  {
   "cell_type": "markdown",
   "metadata": {},
   "source": [
    "### Récupérer l'indice d'une valeur donnée dans un tuple : nom_tuple.index(valeur)"
   ]
  },
  {
   "cell_type": "code",
   "execution_count": null,
   "metadata": {},
   "outputs": [],
   "source": [
    "print(\"Il y a \",apple.count('p'),\" p dans apple.\")  \n",
    "print(\"Dans apple, le l est en indice \",apple.index('l'))"
   ]
  },
  {
   "cell_type": "markdown",
   "metadata": {},
   "source": [
    "## 2. Utilisations"
   ]
  },
  {
   "cell_type": "markdown",
   "metadata": {},
   "source": [
    "<ul><li>Comme le tuple est un objet non-mutable, il peut être utilisé pour créer des <b>constantes</b>.</li></ul>"
   ]
  },
  {
   "cell_type": "markdown",
   "metadata": {},
   "source": [
    "<ul><li> Il permet des <b>affectations multiples</b> : </li></ul>"
   ]
  },
  {
   "cell_type": "code",
   "execution_count": null,
   "metadata": {},
   "outputs": [],
   "source": [
    "a,b=1,2\n",
    "print(\"a = \",a,\"et b = \",b)\n",
    "a,b=b,a\n",
    "print(\"maintenant, a = \",a,\"et b = \",b)\n"
   ]
  },
  {
   "cell_type": "markdown",
   "metadata": {},
   "source": [
    "<ul><li>Par conséquent, il permet à une fonction de <b>retourner plusieurs valeurs</b> :</li></ul>"
   ]
  },
  {
   "cell_type": "code",
   "execution_count": null,
   "metadata": {},
   "outputs": [],
   "source": [
    "def division_euclidienne(dividende,diviseur) :\n",
    "    quotient = dividende // diviseur\n",
    "    reste = dividende % diviseur\n",
    "    return quotient,reste\n",
    "\n",
    "q,r = division_euclidienne(10,3)\n",
    "print(\"Dans la division euclidienne de 10 par 3, le quotient est \",q,\" et le reste \",r)"
   ]
  }
 ],
 "metadata": {
  "kernelspec": {
   "display_name": "Python 3",
   "language": "python",
   "name": "python3"
  },
  "language_info": {
   "codemirror_mode": {
    "name": "ipython",
    "version": 3
   },
   "file_extension": ".py",
   "mimetype": "text/x-python",
   "name": "python",
   "nbconvert_exporter": "python",
   "pygments_lexer": "ipython3",
   "version": "3.7.4"
  }
 },
 "nbformat": 4,
 "nbformat_minor": 2
}

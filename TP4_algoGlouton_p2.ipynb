{
 "cells": [
  {
   "cell_type": "markdown",
   "metadata": {},
   "source": [
    "# TP4 : algorithmes gloutons"
   ]
  },
  {
   "cell_type": "markdown",
   "metadata": {},
   "source": [
    "## Activité 2 : organiser une conférence (suite)"
   ]
  },
  {
   "cell_type": "markdown",
   "metadata": {},
   "source": [
    "Une solution semble émerger des observations précédentes. On peut donc proposer la stratégie suivante.\n",
    "- Classer les intervalles par heures de fin croissantes.\n",
    "- Choisir le conférencier associé au premier intervalle.\n",
    "- Choisir parmi les intervalles suivants celui du conférencier dont l’intervalles est compatible avec celui du premier conférencier.\n",
    "- Recommencer ainsi avec les intervalles classés suivants jusqu’à ce qu’il n’y en ait plus à traiter."
   ]
  },
  {
   "cell_type": "markdown",
   "metadata": {},
   "source": [
    "### quatrième exemple (suite)"
   ]
  },
  {
   "cell_type": "code",
   "execution_count": 2,
   "metadata": {},
   "outputs": [
    {
     "data": {
      "image/png": "[encoded data removed]",
      "text/plain": [
       "<Figure size 432x288 with 1 Axes>"
      ]
     },
     "metadata": {},
     "output_type": "display_data"
    }
   ],
   "source": [
    "import matplotlib.pyplot as plt\n",
    "\n",
    "## le graphique\n",
    "def affiche_graphe(conf) :\n",
    "    \"\"\" prend en arguments la liste conf des données des conférenciers\n",
    "        affiche le graphique \"\"\"\n",
    "    # récupération de la taille des données à afficher\n",
    "    nb_conferenciers = len(conf) # le nombre de conférenciers \n",
    "    horaires_max=[conf[i][1] for i in range(nb_conferenciers)] # les horaires de fin de chaque conférencier\n",
    "    plage_horaire=max(horaires_max) # l'horaire maximum\n",
    "    # gestion du graphique\n",
    "    plt.style.use('seaborn-whitegrid')\n",
    "    fig = plt.figure()\n",
    "    ax = plt.axes()\n",
    "    ax = ax.set(xlabel='créneaux horaires', ylabel='conférenciers')\n",
    "    plt.axis([0, plage_horaire+1, 0, nb_conferenciers+1]) #pour les graduations, de façon à voir les axes\n",
    "    for i in range(len(conf)) :\n",
    "        plt.plot(conf[i],[i+1,i+1]) # affichage des lignes conférencier par conférencier\n",
    "    plt.show() #indispensable pour l'affichage\n",
    "    \n",
    "## les données des conférenciers\n",
    "conf=[[0,7],[2,5],[6,8],[1,2],[5,6],[0,2],[4,7],[0,1],[3,6],[1,3],[4,5],[6,8],[0,2],[5,7],[1,4]]\n",
    "## l'affichage du graphique\n",
    "affiche_graphe(conf)"
   ]
  },
  {
   "cell_type": "markdown",
   "metadata": {},
   "source": [
    "**application 1 :** <br>\n",
    "Rappel : les conférenciers sont notés C1, C2, … ; on choisit des plages de conférence d'au moins 1 h <br>\n",
    "Suivi de l'algorithme pas à pas à compléter ci-dessous :\n",
    "- classement des conférenciers par heure de fin croissante : ………………\n",
    "- le premier conférencier est X1 = ………\n",
    "- le conférencier suivant dont l'intervalle est compatible (plages horaires disjointes) avec X1 est X2 = …………\n",
    "- le conférencier suivant compatible avec X2 est X3 = …\n",
    "- ………………\n",
    "Le planning final est : ………………………"
   ]
  },
  {
   "cell_type": "markdown",
   "metadata": {},
   "source": [
    "**application 2** : <br>\n",
    "proposer un code pour une fonction *ordre_conference*() qui prendrait en argument les horaires des conférenciers et retournerait le planning final."
   ]
  },
  {
   "cell_type": "code",
   "execution_count": null,
   "metadata": {},
   "outputs": [],
   "source": []
  }
 ],
 "metadata": {
  "kernelspec": {
   "display_name": "Python 3",
   "language": "python",
   "name": "python3"
  },
  "language_info": {
   "codemirror_mode": {
    "name": "ipython",
    "version": 3
   },
   "file_extension": ".py",
   "mimetype": "text/x-python",
   "name": "python",
   "nbconvert_exporter": "python",
   "pygments_lexer": "ipython3",
   "version": "3.7.4"
  }
 },
 "nbformat": 4,
 "nbformat_minor": 2
}

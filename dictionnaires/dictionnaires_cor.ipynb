{
 "cells": [
  {
   "cell_type": "markdown",
   "metadata": {},
   "source": [
    "# Dictionnaires"
   ]
  },
  {
   "cell_type": "markdown",
   "metadata": {},
   "source": [
    "## 1. Structure et construction"
   ]
  },
  {
   "cell_type": "markdown",
   "metadata": {},
   "source": [
    "### Structure d'un dictionnaire"
   ]
  },
  {
   "cell_type": "markdown",
   "metadata": {},
   "source": [
    "Un dictionnaire est un ensemble **non-ordonné** d'associations clé/valeur.\n",
    "On **ne** peut **pas** accéder à un élément par un indice contrairement aux listes."
   ]
  },
  {
   "cell_type": "markdown",
   "metadata": {},
   "source": [
    "Chaque élément de dictionnaire est composé d'une **clé** et d'une **valeur**.\n",
    "Les éléments d'un même dictionnaire sont séparés par des **virgules** et encadrés par des **accolades**. <br>\n",
    "Les clés d'un dictionnaire sont des objets uniques et ne peuvent être modifiées (**non-mutables**). Par conséquent, elles ne peuvent être que de types ***int***,***float***, ***str*** ou ***tuple***. <br>\n",
    "Il n'y a pas de restriction de type pour les valeurs."
   ]
  },
  {
   "cell_type": "markdown",
   "metadata": {},
   "source": [
    "*exemples* de dictionnaires avec des valeurs simples ou multiples :"
   ]
  },
  {
   "cell_type": "code",
   "execution_count": 55,
   "metadata": {},
   "outputs": [
    {
     "name": "stdout",
     "output_type": "stream",
     "text": [
      "placard est de type  <class 'dict'>  et contient : {'chemise': 3, 'pantalon': 6, 'tee-shirt': 7}\n",
      "dressing est de type  <class 'dict'>  et contient : {'chemise': ['L', 'bleue', 'étagère du bas'], 'pantalon': ['M', 'vert', 'étagère du milieu']}\n"
     ]
    }
   ],
   "source": [
    "placard={\"chemise\":3,\"pantalon\":6,\"tee-shirt\":7}\n",
    "print(\"placard est de type \",type(placard),\" et contient :\",placard)\n",
    "dressing={\"chemise\":[\"L\",\"bleue\",\"étagère du bas\"],\"pantalon\":[\"M\",\"vert\",\"étagère du milieu\"]}\n",
    "print(\"dressing est de type \",type(dressing),\" et contient :\",dressing)"
   ]
  },
  {
   "cell_type": "markdown",
   "metadata": {},
   "source": [
    "### Création d'un dictionnaire"
   ]
  },
  {
   "cell_type": "markdown",
   "metadata": {},
   "source": [
    "#### Créer un dictionnaire par instanciation avec les couples clé-valeur"
   ]
  },
  {
   "cell_type": "markdown",
   "metadata": {},
   "source": [
    "*exemple :*"
   ]
  },
  {
   "cell_type": "code",
   "execution_count": 56,
   "metadata": {},
   "outputs": [
    {
     "name": "stdout",
     "output_type": "stream",
     "text": [
      "Simpson contient :  {'père': 'Homer', 'mère': 'Marge', 'fils': 'Bart', 'fille': 'Lisa'}\n"
     ]
    }
   ],
   "source": [
    "Simpson={\"père\":\"Homer\",\"mère\":\"Marge\",\"fils\":\"Bart\",\"fille\":\"Lisa\"}\n",
    "print(\"Simpson contient : \",Simpson)"
   ]
  },
  {
   "cell_type": "markdown",
   "metadata": {},
   "source": [
    "<u>application </u> : <br>\n",
    "Créer un dictionnaire appelé *annee* dans lequel les clés correspondent aux noms des mois et leurs valeurs associées aux nombres du jour dans le mois (pour une année non-bissextile). "
   ]
  },
  {
   "cell_type": "code",
   "execution_count": 57,
   "metadata": {},
   "outputs": [
    {
     "name": "stdout",
     "output_type": "stream",
     "text": [
      "{'janvier': 31, 'février': 28, 'mars': 31, 'avril': 30, 'mai': 31, 'juin': 30, 'juillet': 31, 'août': 31, 'septembre': 30, 'octobre': 31, 'novembre': 30, 'décembre': 31}\n"
     ]
    }
   ],
   "source": [
    "annee={\"janvier\":31,\"février\":28,\"mars\":31,\"avril\":30,\"mai\":31,\n",
    "       \"juin\":30,\"juillet\":31,\"août\":31,\"septembre\":30,\n",
    "      \"octobre\":31,\"novembre\":30,\"décembre\":31}\n",
    "print(annee)"
   ]
  },
  {
   "cell_type": "markdown",
   "metadata": {},
   "source": [
    "#### Créer un dictionnaire par compréhension"
   ]
  },
  {
   "cell_type": "markdown",
   "metadata": {},
   "source": [
    "*exemple 1* : dictionnaire des carrés des entiers de 0 à 10"
   ]
  },
  {
   "cell_type": "code",
   "execution_count": 58,
   "metadata": {},
   "outputs": [
    {
     "name": "stdout",
     "output_type": "stream",
     "text": [
      "carre contient :  {0: 0, 1: 1, 2: 4, 3: 9, 4: 16, 5: 25, 6: 36, 7: 49, 8: 64, 9: 81, 10: 100}\n"
     ]
    }
   ],
   "source": [
    "carre={a:a**2 for a in range(11)}\n",
    "print(\"carre contient : \",carre)"
   ]
  },
  {
   "cell_type": "markdown",
   "metadata": {},
   "source": [
    "*exemple 2* : avec les lettres de l'alphabet"
   ]
  },
  {
   "cell_type": "code",
   "execution_count": 59,
   "metadata": {},
   "outputs": [
    {
     "name": "stdout",
     "output_type": "stream",
     "text": [
      "{'A': 0, 'B': 1, 'C': 2, 'D': 3, 'E': 4, 'F': 5, 'G': 6, 'H': 7, 'I': 8, 'J': 9, 'K': 10, 'L': 11, 'M': 12, 'N': 13, 'O': 14, 'P': 15, 'Q': 16, 'R': 17, 'S': 18, 'T': 19, 'U': 20, 'V': 21, 'W': 22, 'X': 23, 'Y': 24, 'Z': 25}\n"
     ]
    }
   ],
   "source": [
    "majuscules={chr(65+i) : i for i in range(26)}\n",
    "print(majuscules)"
   ]
  },
  {
   "cell_type": "markdown",
   "metadata": {},
   "source": [
    "#### Convertir une liste de listes à 2 éléments en dictionnaire\n"
   ]
  },
  {
   "cell_type": "code",
   "execution_count": 60,
   "metadata": {},
   "outputs": [
    {
     "name": "stdout",
     "output_type": "stream",
     "text": [
      "{'bleu': 3, 'noir': 4, 'rouge': 2, 'vert': 1}\n"
     ]
    }
   ],
   "source": [
    "stylos=[['bleu',3],[\"noir\",4],[\"rouge\",2],[\"vert\",1]]\n",
    "d_stylos=dict(stylos)\n",
    "print(d_stylos)"
   ]
  },
  {
   "cell_type": "markdown",
   "metadata": {},
   "source": [
    "#### Créer un dictionnaire vide"
   ]
  },
  {
   "cell_type": "code",
   "execution_count": 61,
   "metadata": {},
   "outputs": [
    {
     "name": "stdout",
     "output_type": "stream",
     "text": [
      "dico_vide contient :  {}\n"
     ]
    }
   ],
   "source": [
    "dico_vide={}\n",
    "print(\"dico_vide contient : \",dico_vide)"
   ]
  },
  {
   "cell_type": "markdown",
   "metadata": {},
   "source": [
    "## 2. Opérations sur les dictionnaires"
   ]
  },
  {
   "cell_type": "markdown",
   "metadata": {},
   "source": [
    "### Ajouter des éléments à un dictionnaire"
   ]
  },
  {
   "cell_type": "markdown",
   "metadata": {},
   "source": [
    "#### par clé-valeur : nom_du_dico[\"clé\"]=valeur"
   ]
  },
  {
   "cell_type": "code",
   "execution_count": 62,
   "metadata": {},
   "outputs": [
    {
     "name": "stdout",
     "output_type": "stream",
     "text": [
      "dico_vide :  {'une clé': 'sa valeur'}\n",
      "placard :  {'chemise': 3, 'pantalon': 6, 'tee-shirt': 7, 'tiroir': 8}\n",
      "dressing : {'chemise': ['L', 'bleue', 'étagère du bas'], 'pantalon': ['M', 'vert', 'étagère du milieu'], 'chaussettes': ['40', 'jaune', 'tiroir']}\n",
      "Simpson :  {'père': 'Homer', 'mère': 'Marge', 'fils': 'Bart', 'fille': 'Lisa', 'chat': 'Garfield'}\n"
     ]
    }
   ],
   "source": [
    "dico_vide[\"une clé\"]=\"sa valeur\"\n",
    "print(\"dico_vide : \",dico_vide)\n",
    "placard[\"tiroir\"]=8\n",
    "print(\"placard : \", placard)\n",
    "dressing[\"chaussettes\"]=[\"40\",\"jaune\",\"tiroir\"]\n",
    "print(\"dressing :\",dressing)\n",
    "Simpson[\"chat\"]=\"Garfield\"\n",
    "print(\"Simpson : \",Simpson)"
   ]
  },
  {
   "cell_type": "markdown",
   "metadata": {},
   "source": [
    "#### ajouter des valeurs à une clé existante : nom_du_dico[\"clé\"].append(valeur_supplémentaire)"
   ]
  },
  {
   "cell_type": "code",
   "execution_count": 63,
   "metadata": {},
   "outputs": [
    {
     "name": "stdout",
     "output_type": "stream",
     "text": [
      "dressing : {'chemise': ['L', 'bleue', 'étagère du bas'], 'pantalon': ['M', 'vert', 'étagère du milieu'], 'chaussettes': ['40', 'jaune', 'tiroir', 'commode']}\n"
     ]
    }
   ],
   "source": [
    "dressing[\"chaussettes\"].append(\"commode\")\n",
    "print(\"dressing :\",dressing)"
   ]
  },
  {
   "cell_type": "markdown",
   "metadata": {},
   "source": [
    "Remarque : cette fonction ne s'applique que sur des clés dont les valeurs supportent la fonction *append* , sinon cela renvoie un message d'erreur."
   ]
  },
  {
   "cell_type": "code",
   "execution_count": 64,
   "metadata": {},
   "outputs": [
    {
     "ename": "AttributeError",
     "evalue": "'str' object has no attribute 'append'",
     "output_type": "error",
     "traceback": [
      "\u001b[0;31m---------------------------------------------------------------------------\u001b[0m",
      "\u001b[0;31mAttributeError\u001b[0m                            Traceback (most recent call last)",
      "\u001b[0;32m<ipython-input-64-db62294da27c>\u001b[0m in \u001b[0;36m<module>\u001b[0;34m\u001b[0m\n\u001b[0;32m----> 1\u001b[0;31m \u001b[0mSimpson\u001b[0m\u001b[0;34m[\u001b[0m\u001b[0;34m\"chat\"\u001b[0m\u001b[0;34m]\u001b[0m\u001b[0;34m.\u001b[0m\u001b[0mappend\u001b[0m\u001b[0;34m(\u001b[0m\u001b[0;34m\"roux\"\u001b[0m\u001b[0;34m)\u001b[0m\u001b[0;34m\u001b[0m\u001b[0;34m\u001b[0m\u001b[0m\n\u001b[0m",
      "\u001b[0;31mAttributeError\u001b[0m: 'str' object has no attribute 'append'"
     ]
    }
   ],
   "source": [
    "Simpson[\"chat\"].append(\"roux\")"
   ]
  },
  {
   "cell_type": "markdown",
   "metadata": {},
   "source": [
    "#### Récupérer une valeur associée à une clé"
   ]
  },
  {
   "cell_type": "code",
   "execution_count": 65,
   "metadata": {},
   "outputs": [
    {
     "name": "stdout",
     "output_type": "stream",
     "text": [
      "Le chat des Simpson est  Garfield\n"
     ]
    }
   ],
   "source": [
    "print(\"Le chat des Simpson est \",Simpson[\"chat\"])"
   ]
  },
  {
   "cell_type": "markdown",
   "metadata": {},
   "source": [
    "Remarque : cette méthode renvoie une erreur si la clé n'existe pas dans le dictionnaire."
   ]
  },
  {
   "cell_type": "code",
   "execution_count": 66,
   "metadata": {},
   "outputs": [
    {
     "ename": "KeyError",
     "evalue": "'chien'",
     "output_type": "error",
     "traceback": [
      "\u001b[0;31m---------------------------------------------------------------------------\u001b[0m",
      "\u001b[0;31mKeyError\u001b[0m                                  Traceback (most recent call last)",
      "\u001b[0;32m<ipython-input-66-dc5dd20fda76>\u001b[0m in \u001b[0;36m<module>\u001b[0;34m\u001b[0m\n\u001b[0;32m----> 1\u001b[0;31m \u001b[0mprint\u001b[0m\u001b[0;34m(\u001b[0m\u001b[0;34m\"Le chien des Simpson est \"\u001b[0m\u001b[0;34m,\u001b[0m\u001b[0mSimpson\u001b[0m\u001b[0;34m[\u001b[0m\u001b[0;34m\"chien\"\u001b[0m\u001b[0;34m]\u001b[0m\u001b[0;34m)\u001b[0m\u001b[0;34m\u001b[0m\u001b[0;34m\u001b[0m\u001b[0m\n\u001b[0m",
      "\u001b[0;31mKeyError\u001b[0m: 'chien'"
     ]
    }
   ],
   "source": [
    "print(\"Le chien des Simpson est \",Simpson[\"chien\"])"
   ]
  },
  {
   "cell_type": "markdown",
   "metadata": {},
   "source": [
    "Conséquence : pour éviter le déclenchement de l'erreur, on peut utiliser la fonction nom_du_dico.get(\"clé\") qui renverra None si la clé n'existe pas et la valeur sinon."
   ]
  },
  {
   "cell_type": "code",
   "execution_count": 67,
   "metadata": {},
   "outputs": [
    {
     "name": "stdout",
     "output_type": "stream",
     "text": [
      "Le chat des Simpson est  Garfield\n",
      "Le chien des Simpson est  None\n"
     ]
    }
   ],
   "source": [
    "print(\"Le chat des Simpson est \",Simpson.get(\"chat\"))\n",
    "print(\"Le chien des Simpson est \",Simpson.get(\"chien\"))"
   ]
  },
  {
   "cell_type": "markdown",
   "metadata": {},
   "source": [
    "### Modifier des éléments d'un dictionnaire"
   ]
  },
  {
   "cell_type": "markdown",
   "metadata": {},
   "source": [
    "#### modifier une valeur par affectation : nom_du_dico[\"clé\"]=nouvelle_valeur"
   ]
  },
  {
   "cell_type": "code",
   "execution_count": 68,
   "metadata": {},
   "outputs": [
    {
     "name": "stdout",
     "output_type": "stream",
     "text": [
      "avant modification, dico_vide :  {'une clé': 'sa valeur'}\n",
      "après modification, dico_vide :  {'une clé': 'nouvelle valeur'}\n"
     ]
    }
   ],
   "source": [
    "print(\"avant modification, dico_vide : \",dico_vide)\n",
    "dico_vide[\"une clé\"]=\"nouvelle valeur\"\n",
    "print(\"après modification, dico_vide : \",dico_vide)"
   ]
  },
  {
   "cell_type": "markdown",
   "metadata": {},
   "source": [
    "### Supprimer des éléments d'un dictionnaire"
   ]
  },
  {
   "cell_type": "markdown",
   "metadata": {},
   "source": [
    "#### par clé-valeur : del nom_du_dico[\"clé\"]"
   ]
  },
  {
   "cell_type": "code",
   "execution_count": 69,
   "metadata": {},
   "outputs": [
    {
     "name": "stdout",
     "output_type": "stream",
     "text": [
      "dico_vide :  {}\n"
     ]
    }
   ],
   "source": [
    "del dico_vide[\"une clé\"]\n",
    "print(\"dico_vide : \",dico_vide)"
   ]
  },
  {
   "cell_type": "markdown",
   "metadata": {},
   "source": [
    "Remarque : cette méthode déclenche une erreur si la clé n'existe pas. On peut lui préférer la méthode suivante qui renvoie la valeur supprimée :"
   ]
  },
  {
   "cell_type": "markdown",
   "metadata": {},
   "source": [
    "#### avec la fonction pop() : nom_du_dico.pop(\"clé\")"
   ]
  },
  {
   "cell_type": "code",
   "execution_count": 70,
   "metadata": {},
   "outputs": [
    {
     "name": "stdout",
     "output_type": "stream",
     "text": [
      "Simpson :  {'père': 'Homer', 'mère': 'Marge', 'fils': 'Bart', 'fille': 'Lisa'}\n",
      "valeur enlevée :  Garfield\n"
     ]
    }
   ],
   "source": [
    "nom_chat=Simpson.pop(\"chat\")\n",
    "print(\"Simpson : \",Simpson)\n",
    "print(\"valeur enlevée : \",nom_chat)"
   ]
  },
  {
   "cell_type": "markdown",
   "metadata": {},
   "source": [
    "#### vider un dictionnaire : nom_du_dico.clear()"
   ]
  },
  {
   "cell_type": "code",
   "execution_count": 71,
   "metadata": {},
   "outputs": [
    {
     "name": "stdout",
     "output_type": "stream",
     "text": [
      "placard :  {}\n"
     ]
    }
   ],
   "source": [
    "placard.clear()\n",
    "print(\"placard : \", placard)"
   ]
  },
  {
   "cell_type": "markdown",
   "metadata": {},
   "source": [
    "### Fonctionnalités sur les éléments d'un dictionnaire"
   ]
  },
  {
   "cell_type": "markdown",
   "metadata": {},
   "source": [
    "#### nombre de clés : len(nom_du_dico)"
   ]
  },
  {
   "cell_type": "code",
   "execution_count": 72,
   "metadata": {},
   "outputs": [
    {
     "name": "stdout",
     "output_type": "stream",
     "text": [
      "dressing a  3  clés.\n"
     ]
    }
   ],
   "source": [
    "print(\"dressing a \",len(dressing),\" clés.\")"
   ]
  },
  {
   "cell_type": "markdown",
   "metadata": {},
   "source": [
    "#### accès aux clés d'un dictionnaire : nom_du_dico.keys()"
   ]
  },
  {
   "cell_type": "code",
   "execution_count": 73,
   "metadata": {},
   "outputs": [
    {
     "name": "stdout",
     "output_type": "stream",
     "text": [
      "les clés de dressing sont :  dict_keys(['chemise', 'pantalon', 'chaussettes'])\n",
      "<class 'dict_keys'>\n"
     ]
    }
   ],
   "source": [
    "print(\"les clés de dressing sont : \",dressing.keys())\n",
    "print(type(dressing.keys()))"
   ]
  },
  {
   "cell_type": "markdown",
   "metadata": {},
   "source": [
    "Remarque : les clés ne sont pas renvoyées sous forme de liste mais sous forme d'un objet particulier, dict_keys, contenant leur liste en argument.<br>\n",
    "Le type dictionnaire est optimisé pour rechercher efficacement une clé particulière ; le test se fera simplement comme suit :"
   ]
  },
  {
   "cell_type": "markdown",
   "metadata": {},
   "source": [
    "#### tester si une clé est dans le dictionnaire :"
   ]
  },
  {
   "cell_type": "code",
   "execution_count": 74,
   "metadata": {},
   "outputs": [
    {
     "name": "stdout",
     "output_type": "stream",
     "text": [
      "les chaussettes sont dans le dressing\n",
      "les chaussettes ne sont pas dans le placard\n"
     ]
    }
   ],
   "source": [
    "if \"chaussettes\" in dressing :\n",
    "    print(\"les chaussettes sont dans le dressing\")\n",
    "if not \"chaussettes\" in placard :\n",
    "    print(\"les chaussettes ne sont pas dans le placard\")"
   ]
  },
  {
   "cell_type": "markdown",
   "metadata": {},
   "source": [
    "#### accès aux valeurs du dictionnaire : nom_du_dico.values()"
   ]
  },
  {
   "cell_type": "code",
   "execution_count": 75,
   "metadata": {},
   "outputs": [
    {
     "name": "stdout",
     "output_type": "stream",
     "text": [
      "les valeurs de Simson sont :  dict_values(['Homer', 'Marge', 'Bart', 'Lisa'])\n",
      "<class 'dict_values'>\n"
     ]
    }
   ],
   "source": [
    "print(\"les valeurs de Simson sont : \",Simpson.values())\n",
    "print(type(Simpson.values()))"
   ]
  },
  {
   "cell_type": "markdown",
   "metadata": {},
   "source": [
    "#### tester si une valeur est dans le dictionnaire :"
   ]
  },
  {
   "cell_type": "code",
   "execution_count": 76,
   "metadata": {},
   "outputs": [
    {
     "name": "stdout",
     "output_type": "stream",
     "text": [
      "Garfield n'est plus chez les Simpson,\n",
      "mais Bart y est encore.\n"
     ]
    }
   ],
   "source": [
    "if not \"Garfield\" in Simpson.values() :\n",
    "    print(\"Garfield n'est plus chez les Simpson,\")\n",
    "if \"Bart\" in Simpson.values() :\n",
    "    print(\"mais Bart y est encore.\")"
   ]
  },
  {
   "cell_type": "markdown",
   "metadata": {},
   "source": [
    "#### tester si un couple clé-valeur est dans le dictionnaire :"
   ]
  },
  {
   "cell_type": "code",
   "execution_count": 77,
   "metadata": {},
   "outputs": [
    {
     "name": "stdout",
     "output_type": "stream",
     "text": [
      "j'ai 2 stylos rouges, \n",
      "mais je n'ai pas 4 stylos verts.\n"
     ]
    }
   ],
   "source": [
    "if (\"rouge\",2) in d_stylos.items() :\n",
    "    print(\"j'ai 2 stylos rouges, \")\n",
    "if not (\"vert\",4) in d_stylos.items() :\n",
    "    print(\"mais je n'ai pas 4 stylos verts.\")"
   ]
  },
  {
   "cell_type": "markdown",
   "metadata": {},
   "source": [
    "#### boucler sur les clés et valeurs : nom_du_dico.items()"
   ]
  },
  {
   "cell_type": "code",
   "execution_count": 78,
   "metadata": {},
   "outputs": [
    {
     "name": "stdout",
     "output_type": "stream",
     "text": [
      "père  vaut  Homer\n",
      "mère  vaut  Marge\n",
      "fils  vaut  Bart\n",
      "fille  vaut  Lisa\n"
     ]
    }
   ],
   "source": [
    "for key,value in Simpson.items() :\n",
    "    print(key,\" vaut \",value)"
   ]
  },
  {
   "cell_type": "markdown",
   "metadata": {},
   "source": [
    "Remarque : les couples clés-valeurs sont de type tuple, type que l'on verra ultérieurement."
   ]
  },
  {
   "cell_type": "markdown",
   "metadata": {},
   "source": [
    "## 3. Applications"
   ]
  },
  {
   "cell_type": "markdown",
   "metadata": {},
   "source": [
    "### Exercice 1  : jouons au scrabble"
   ]
  },
  {
   "cell_type": "markdown",
   "metadata": {},
   "source": [
    "Au scrabble, chaque lettre a une valeur comprise entre 1 et 10.\n",
    "Compléter le code suivant qui demande à l'utilisateur le mot qu'il veut écrire (tout en majuscules et sans accent) et affiche le score correspondant (en supposant qu'il ne le pose pas sur une case apportant des points supplémentaires).<br>\n",
    "Modifier ensuite ce code pour qu'il prenne en compte le nombre de lettres de chaque type à disposition et affiche impossible au lieu du score s'il n'y a pas assez de lettres disponibles (on pourra intégrer au besoin une lettre joker = lettre blanche)."
   ]
  },
  {
   "cell_type": "code",
   "execution_count": 83,
   "metadata": {},
   "outputs": [
    {
     "name": "stdout",
     "output_type": "stream",
     "text": [
      "Entrez un mot en majuscules : BABYBOOM\n",
      "Vous avez utilisé  1  lettre(s) blanche(s)\n",
      "Vous marquez  21  points avec le mot  BABYBOOM\n"
     ]
    }
   ],
   "source": [
    "scrabble={'A':[1,9],'B':[3,2],'C':[3,2],'D':[2,3],'E':[1,15],\n",
    "          'F':[4,2],'G':[2,2],'H':[4,2],'I':[1,8],'J':[8,1],\n",
    "          'K':[10,1],'L':[1,5],'M':[2,3],'N':[1,6],'O':[1,6],\n",
    "          'P':[3,2],'Q':[8,1],'R':[1,6],'S':[1,6],'T':[1,6],\n",
    "         'U':[1,6],'V':[4,2],'W':[10,1],'X':[10,1],'Y':[10,1],\n",
    "          'Z':[10,1],' ':[0,2]}\n",
    "\n",
    "mot=input(\"Entrez un mot en majuscules : \")\n",
    "score=0\n",
    "lettres=scrabble\n",
    "manque=[]\n",
    "for lettre in mot :\n",
    "    if lettres[lettre][1] > 0 :\n",
    "        score = score + scrabble[lettre][0]\n",
    "        lettres[lettre][1] = lettres[lettre][1]-1\n",
    "    elif lettres[' '][1] > 1 :\n",
    "        lettres[' '][1] = lettres[' '][1]-1\n",
    "    else :\n",
    "        manque.append(lettre)\n",
    "if len(manque)> 0 :\n",
    "    print(\"Vous n'avez pas assez de lettres \",manque,\" pour le mot \",mot)\n",
    "else :\n",
    "    if lettres[' '][1] < 2 :\n",
    "        print(\"Vous avez utilisé \",(2-lettres[' '][1]),\" lettre(s) blanche(s)\")\n",
    "    print(\"Vous marquez \",score,\" points avec le mot \",mot)\n",
    "    "
   ]
  },
  {
   "cell_type": "markdown",
   "metadata": {},
   "source": [
    "### Exercice 2 : dépouillement d'une urne\n"
   ]
  },
  {
   "cell_type": "markdown",
   "metadata": {},
   "source": [
    "A l'issue d'une élection à scrutin uninominal (un seul nom par bulletin), on récupère un tableau contenant tous les noms inscrits sur les bulletins trouvés dans l'urne. <br>\n",
    "Afin de déterminer le vainqueur de l'élection, en un seul parcours des bulletins, on souhaite créer un dictionnaire qui à chaque nom contenu dans l'urne associe le nombre de bulletins correspondant et se servir de ce dictionnaire pour déterminer le vainqueur.\n",
    "Pour ce faire, on va : <br>\n",
    "<ul>\n",
    "    <li>créer une fonction *incr_dico()* qui rajoute à un dictionnaire passé en argument une clé (elle aussi passée en argument)associée à la valeur 1 si cette clé n'est pas déjà présente dans le dictionnaire , sinon, incrémente de 1 la valeur associée à cette clé. </li>\n",
    "    <li>créer une fonction *depouillement()* qui prend la liste des bulletins en argument, construit le dictionnaire et retourne le vainqueur.</li>\n",
    "</ul>"
   ]
  },
  {
   "cell_type": "code",
   "execution_count": 84,
   "metadata": {},
   "outputs": [
    {
     "name": "stdout",
     "output_type": "stream",
     "text": [
      "le vainqueur est :  Toto\n"
     ]
    }
   ],
   "source": [
    "bulletins=[\"Martin\",\"Paul\",\"Pierre\",\"Jacques\",\"Toto\",\"Marie\",\"Paul\",\"Pierre\",\"Jacques\",\"Toto\",\"Toto\"]\n",
    "\n",
    "def incr_dico(dico,cle):\n",
    "    \"\"\" Entrée : un dictionnaire dico\n",
    "                    une clef cle\n",
    "        Sortie : rien (c'est une procédure qui modifie le dico existant)\n",
    "        Effet : \n",
    "            - si cle est une clef de dico, la valeur de cle est augmentée de 1\n",
    "            - sinon cle est insérée dans dico associée à la valeur 1\n",
    "    \"\"\"\n",
    "    if cle in dico :\n",
    "        dico[cle] = dico[cle] + 1\n",
    "    else :\n",
    "        dico[cle] = 1\n",
    "        \n",
    "    \n",
    "def depouillement(bulletins):\n",
    "    \"\"\" Entrée : une liste bulletins\n",
    "        Sortie : une chaîne de caractères : vainqueur\n",
    "        Effets : \n",
    "           - construit le dictionnaire des noms-nb de bulletins\n",
    "           - détermine le vainqueur\n",
    "    \"\"\"\n",
    "    dico = {}\n",
    "    ## création du dictionnaire\n",
    "    for nom in bulletins :\n",
    "        incr_dico(dico,nom)\n",
    "    \n",
    "    nb_voix_max = 0\n",
    "    vainqueur=\"\"\n",
    "    ## détermination du vainqueur\n",
    "    for nom,voix in dico.items() :\n",
    "        if voix > nb_voix_max :\n",
    "            nb_voix_max = voix\n",
    "            vainqueur = nom\n",
    "    \n",
    "    ## si ex-aequo\n",
    "    ex_aequo=[nom for nom,voix in dico.items() if voix == nb_voix_max]\n",
    "    if len(ex_aequo) > 1 :\n",
    "        vainqueur = ex_aequo\n",
    "    return vainqueur\n",
    "\n",
    "print(\"le vainqueur est : \",depouillement(bulletins))"
   ]
  },
  {
   "cell_type": "markdown",
   "metadata": {},
   "source": [
    "### Exercice 3 : horaires de trains"
   ]
  },
  {
   "cell_type": "markdown",
   "metadata": {},
   "source": [
    "Le panneau de la gare affiche les horaires suivants :\n",
    "    <img src=\"horaires_trains.jpg\"> <br>\n",
    "On peut les regrouper dans un dictionnaire de dictionnaires. <br>\n",
    "Les 3 premiers affichages ont ainsi été répertoriés dans le dictionnaire trains ci-dessous.<br>\n",
    "Travail à effectuer :\n",
    "<ul>\n",
    "    <li>compléter la fonction ajout_train() qui rajoute au dictionnaire un train indexé par son numéro et dont la valeur est un dictionnaire comportant les champs destination, horaire, type et délai dont les valeurs ont été passées en argument de la fonction ;</li>\n",
    "    <li>compléter la fonction prochain_train() qui prend en argument le dictionnaire des trains et une destination et retourne l'horaire du prochain train concerné si cette destination existe et None sinon </li>\n",
    "    <li>compléter la fonction ajout_train_interactif() qui demande à l'utilisateur les informations sur le train à rajouter (numéro, destination, horaire, type et délai) et l'ajoute au dictionnaire ;</li>\n",
    "    <li> créer une fonction train_pour() qui prend en argument le dictionnaire des trains, demande à l'utilisateur la destination souhaitée et lui affiche l'horaire si cette destination existe et un message sinon.</li> \n",
    "</ul>\n"
   ]
  },
  {
   "cell_type": "code",
   "execution_count": 97,
   "metadata": {},
   "outputs": [
    {
     "name": "stdout",
     "output_type": "stream",
     "text": [
      "Numéro du train : 8646\n",
      "Destination du train : Paris Montparnasse\n",
      "Horaire du train : 21.35\n",
      "Type de train : TGV INOUI\n",
      "Délai affiché : Retard 10 min\n",
      "Numéro du train : 8746\n",
      "Destination du train : Paris Montparnasse\n",
      "Horaire du train : 21.35\n",
      "Type de train : TGV INOUI\n",
      "Délai affiché : Retard 10 min\n",
      "Numéro du train : 854445\n",
      "Destination du train : Saint-Malo\n",
      "Horaire du train : 21.39\n",
      "Type de train : TER\n",
      "Délai affiché : à l'heure\n",
      "le prochain train à destination de Brest est à  20.29\n",
      "le prochain train à destination de Saint-Malo est à  20.43\n",
      "le prochain train à destination de Tours est à  None\n"
     ]
    }
   ],
   "source": [
    "trains={8641:{'destination':'Brest',\n",
    "             'horaire':20.29,\n",
    "             'type':'TGV INOUI',\n",
    "             'délai':'à l\\'heure'},\n",
    "       8739:{'destination':'Quimper',\n",
    "             'horaire':20.32,\n",
    "             'type':'TGV INOUI',\n",
    "             'délai':'à l\\'heure'},\n",
    "       854439:{'destination':'Saint-Malo',\n",
    "             'horaire':20.43,\n",
    "             'type':'TER',\n",
    "             'délai':'à l\\'heure'}}\n",
    "\n",
    "def ajout_train(trains,numero,destination,horaire,genre,ponctualite):\n",
    "    \"\"\" Entrée : le dictionnaire des trains\n",
    "                des arguments précisant pour le train\n",
    "            numéro, destination, horaire, type de train, délai\n",
    "        Sortie : rien (le dictionnaire est modifié in situ)\n",
    "        Effets : rajout du train au dictionnaire des trains\n",
    "    \"\"\"\n",
    "    trains[numero]={'destination':destination,'horaire':horaire,\n",
    "                    'type':genre,'délai':ponctualite}\n",
    "    \n",
    "def prochain_train(trains,destination):\n",
    "    \"\"\" Entrée : le dictionnaire des trains\n",
    "                 la destination souhaitée\n",
    "        Sortie : \n",
    "            - l'horaire le plus tôt si la destination existe\n",
    "            - None sinon\n",
    "        Effets : rajout du train au dictionnaire des trains\n",
    "    \"\"\"\n",
    "    heure=25\n",
    "    for train in trains.values() :\n",
    "        if destination in train.values() :\n",
    "            if train[\"horaire\"] < heure :\n",
    "                heure = train[\"horaire\"]\n",
    "    if heure < 25 :\n",
    "        return heure\n",
    "    return None\n",
    "\n",
    "\n",
    "\n",
    "def ajout_train_interactif(trains):\n",
    "    \"\"\" Entrée : le dictionnaire des trains\n",
    "        Sortie : rien (le dictionnaire est modifié in situ)\n",
    "        Effets : \n",
    "            - demande à l'utilisateur de rentrer les références du train :\n",
    "            numéro, destination, horaire, type de train, délai\n",
    "            - rajout du train correspondant au dictionnaire des trains\n",
    "    \"\"\"\n",
    "    numero = input(\"Numéro du train : \")\n",
    "    destination = input(\"Destination du train : \")\n",
    "    horaire = float(input(\"Horaire du train : \"))\n",
    "    genre = input(\"Type de train : \")\n",
    "    ponctualite = input(\"Délai affiché : \")\n",
    "    ajout_train(trains,numero,destination,horaire,genre,ponctualite)\n",
    "    \n",
    "\n",
    "### programme principal \n",
    "########################\n",
    "## partie à ne pas modifier  \n",
    "\n",
    "ajout_train(trains,855687,\"Saint-Brieuc\",20.43,\"TER\",\"à l\\'heure\")\n",
    "ajout_train(trains,854289,\"Montreuil-sur-Ille\",20.48,\"TER\",\"à l\\'heure\")\n",
    "ajout_train(trains,856089,\"Messac-Guipry\",20.51,\"TER\",\"à l\\'heure\")\n",
    "ajout_train(trains,8651,\"Brest\",21.29,\"TGV INOUI\",\"à l\\'heure\")\n",
    "\n",
    "ajout_train_interactif(trains)\n",
    "ajout_train_interactif(trains)\n",
    "ajout_train_interactif(trains)\n",
    "\n",
    "## partie éventuellement modifiable\n",
    "\n",
    "print(\"le prochain train à destination de Brest est à \",prochain_train(trains,\"Brest\"))\n",
    "print(\"le prochain train à destination de Saint-Malo est à \",prochain_train(trains,\"Saint-Malo\"))\n",
    "\n",
    "print(\"le prochain train à destination de Tours est à \",prochain_train(trains,\"Tours\"))"
   ]
  },
  {
   "cell_type": "code",
   "execution_count": null,
   "metadata": {},
   "outputs": [],
   "source": []
  }
 ],
 "metadata": {
  "kernelspec": {
   "display_name": "Python 3",
   "language": "python",
   "name": "python3"
  },
  "language_info": {
   "codemirror_mode": {
    "name": "ipython",
    "version": 3
   },
   "file_extension": ".py",
   "mimetype": "text/x-python",
   "name": "python",
   "nbconvert_exporter": "python",
   "pygments_lexer": "ipython3",
   "version": "3.7.4"
  }
 },
 "nbformat": 4,
 "nbformat_minor": 2
}

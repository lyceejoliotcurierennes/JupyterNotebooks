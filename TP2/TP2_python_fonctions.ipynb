{
 "cells": [
  {
   "cell_type": "markdown",
   "metadata": {},
   "source": [
    "# NSI"
   ]
  },
  {
   "cell_type": "markdown",
   "metadata": {},
   "source": [
    " # séance 2 : Python - Les fonctions"
   ]
  },
  {
   "cell_type": "markdown",
   "metadata": {},
   "source": [
    "## 1. Généralités"
   ]
  },
  {
   "cell_type": "markdown",
   "metadata": {},
   "source": [
    "Lorsqu'un programme comprend plusieurs dizaines de lignes, il devient difficile à lire et à comprendre. La solution est de \"diviser pour mieux régner\", c'est à dire que l'on va décomposer un gros problème en plusieurs petits problèmes plus faciles à résoudre. Les **fonctions** et les **classes** sont deux moyens de diviser un programme Python (les classes seront vues en terminale). Les fonctions permettent aussi d'éviter la duplication de code.<br>\n",
    "Exemple :"
   ]
  },
  {
   "cell_type": "code",
   "execution_count": null,
   "metadata": {},
   "outputs": [],
   "source": [
    "print(\"Le vol en direction de Tokyo décollera à 9h00\")\n",
    "print(\"---------------------------------------------\")\n",
    "print()\n",
    "print()\n",
    "print(\"Le vol en direction de Sydney décollera à 9h30\")\n",
    "print(\"---------------------------------------------\")\n",
    "print()\n",
    "print()\n",
    "print(\"Le vol en direction de Toulouse décollera à 9h45\")\n",
    "print(\"---------------------------------------------\")\n",
    "print()\n",
    "print()"
   ]
  },
  {
   "cell_type": "markdown",
   "metadata": {},
   "source": [
    "Entourez sur le document réponse les 3 lignes de code qui sont dupliquées."
   ]
  },
  {
   "cell_type": "markdown",
   "metadata": {},
   "source": [
    "Pour éviter la duplication de ces 3 lignes de code, on peut les regrouper dans une fonction qui sera appelée autant de fois que nécessaire.<br>\n",
    "Exemple :"
   ]
  },
  {
   "cell_type": "code",
   "execution_count": null,
   "metadata": {},
   "outputs": [],
   "source": [
    "# définition de la fonction\n",
    "def tirer_un_trait():\n",
    "    # corps de la fonction\n",
    "    print(\"---------------------------------------------\")\n",
    "    print()\n",
    "    print()\n",
    "    \n",
    "# programme principal\n",
    "print(\"Le vol en direction de Tokyo décollera à 9h00\")\n",
    "tirer_un_trait() # appel de la fonction\n",
    "print(\"Le vol en direction de Sydney décollera à 9h30\")\n",
    "tirer_un_trait()\n",
    "print(\"Le vol en direction de Toulouse décollera à 9h45\")\n",
    "tirer_un_trait()"
   ]
  },
  {
   "cell_type": "markdown",
   "metadata": {},
   "source": [
    "## 2. Fonctions avec arguments"
   ]
  },
  {
   "cell_type": "markdown",
   "metadata": {},
   "source": [
    "Exemple : print() est une fonction prédéfinie dans le langage Python (version > 3.0) qui affiche ce qui lui est passé en argument(s)."
   ]
  },
  {
   "cell_type": "code",
   "execution_count": null,
   "metadata": {},
   "outputs": [],
   "source": [
    "print(\"Hello World !\")\n",
    "texte = \"pi =\"\n",
    "valeur = 3.14159\n",
    "print(texte, valeur)"
   ]
  },
  {
   "cell_type": "markdown",
   "metadata": {},
   "source": [
    "Les fonctions avec argument(s) permettent d'excuter des actions similaires mais avec de valeurs différentes.<br>\n",
    "Dans le programme ci-dessous, complétez la fonction **afficher_vol()** pour obtenir le même affichage qu'avec le programme du paragraphe 1."
   ]
  },
  {
   "cell_type": "code",
   "execution_count": null,
   "metadata": {},
   "outputs": [],
   "source": [
    "def tirer_un_trait():\n",
    "    print(\"---------------------------------------------\")\n",
    "    print()\n",
    "    print()\n",
    "    \n",
    "# définition de la fonction\n",
    "def afficher_vol(destination, heure):\n",
    "    # corps de la fonction à compléter\n",
    "    \n",
    "# programme principal\n",
    "afficher_vol(\"Tokyo\", \"9h00\")\n",
    "tirer_un_trait()\n",
    "afficher_vol(\"Sydney\", \"9h30\")\n",
    "tirer_un_trait()\n",
    "afficher_vol(\"Toulouse\", \"9h45\")\n",
    "tirer_un_trait()"
   ]
  },
  {
   "cell_type": "markdown",
   "metadata": {},
   "source": [
    "Une fonction peut en appeler une autre.<br>\n",
    "On remarque que dans le programme précédent 3 lignes sont identiques : modifiez la fonction afficher_vol() pour obtenir de nouveau le même affichage."
   ]
  },
  {
   "cell_type": "code",
   "execution_count": null,
   "metadata": {},
   "outputs": [],
   "source": [
    "def tirer_un_trait():\n",
    "    print(\"---------------------------------------------\")\n",
    "    print()\n",
    "    print()\n",
    "    \n",
    "# définition de la fonction\n",
    "def afficher_vol(destination, heure):\n",
    "    # corps de la fonction à compléter\n",
    "    \n",
    "# programme principal\n",
    "afficher_vol(\"Tokyo\", \"9h00\")\n",
    "afficher_vol(\"Sydney\", \"9h30\")\n",
    "afficher_vol(\"Toulouse\", \"9h45\")"
   ]
  },
  {
   "cell_type": "markdown",
   "metadata": {},
   "source": [
    "## 3. Fonctions retournant une valeur"
   ]
  },
  {
   "cell_type": "markdown",
   "metadata": {},
   "source": [
    "Exemple : La fonction aire_rectangle() ci-dessous calcule et **retourne** l'aire d'un rectangle dont la longueur et la largeur sont passées en arguments."
   ]
  },
  {
   "cell_type": "code",
   "execution_count": null,
   "metadata": {},
   "outputs": [],
   "source": [
    "def aire_rectangle(longueur, largeur):\n",
    "    aire = longueur * largeur\n",
    "    return aire\n",
    "\n",
    "# programme principal\n",
    "surface = aire_rectangle(64, 26)\n",
    "print(f\"L'aire du rectangle mesure {surface}.\")"
   ]
  },
  {
   "cell_type": "markdown",
   "metadata": {},
   "source": [
    "De la même façon, complétez la fonction **prix_ttc()** qui calcule et retourne le prix TTC en fonction du prix HT et du taux de TVA (en %) passés en argument."
   ]
  },
  {
   "cell_type": "code",
   "execution_count": null,
   "metadata": {},
   "outputs": [],
   "source": [
    "def prix_ttc(prix_ht, tva):\n",
    "    # à compléter\n",
    "   \n",
    "# programme principal\n",
    "prix = prix_ttc(80, 20)\n",
    "print(\"Le prix TTC est\", prix)"
   ]
  },
  {
   "cell_type": "markdown",
   "metadata": {},
   "source": [
    "## 4. Exercices"
   ]
  },
  {
   "cell_type": "markdown",
   "metadata": {},
   "source": [
    "**Exercice 1 : Fonction moyenne()** : Ecrire une fonction qui calcule et retourne la moyenne de 3 notes passées en arguments. Dans le programme principal, appeler cette fonction avec des exemples de valeurs au choix et afficher le résultat, vérifier que les résultats sont corrects. "
   ]
  },
  {
   "cell_type": "code",
   "execution_count": null,
   "metadata": {},
   "outputs": [],
   "source": []
  },
  {
   "cell_type": "markdown",
   "metadata": {},
   "source": [
    "**Exercice 2 : fonction moyenne pondérée** : Ecrire une fonction nommée moyenne_ponderee() qui calcule et retourne la moyenne de 3 notes passées en arguments.<br>\n",
    " - la 1ère note est une note de DS coefficient 2.<br>\n",
    " - la 2ème note est une note de TP coefficient 1.<br>\n",
    " - la 3ème note est une note de projet coefficient 4.<br>\n",
    " \n",
    "La moyenne retournée devra être arrondie à l'entier le plus proche.<br>\n",
    "Dans le programme principal, appeler cette fonction avec des exemples de valeurs au choix et afficher le résultat, vérifier que les résultats sont corrects. "
   ]
  },
  {
   "cell_type": "code",
   "execution_count": null,
   "metadata": {},
   "outputs": [],
   "source": []
  },
  {
   "cell_type": "markdown",
   "metadata": {},
   "source": [
    "**Exercice 3 : Le meilleur prix** : Un cinéma propose des places à 9€ la séance. Il propose aussi une carte d'abonnement à 20€ qui permet de payer des places à 7€ la séance. Ecrire une fonction qui calcule et retourne, pour un nombre de séances passé en argument, le meilleur tarif."
   ]
  },
  {
   "cell_type": "code",
   "execution_count": null,
   "metadata": {},
   "outputs": [],
   "source": []
  }
 ],
 "metadata": {
  "file_extension": ".py",
  "kernelspec": {
   "display_name": "Python 3",
   "language": "python",
   "name": "python3"
  },
  "language_info": {
   "codemirror_mode": {
    "name": "ipython",
    "version": 3
   },
   "file_extension": ".py",
   "mimetype": "text/x-python",
   "name": "python",
   "nbconvert_exporter": "python",
   "pygments_lexer": "ipython3",
   "version": "3.7.1"
  },
  "mimetype": "text/x-python",
  "name": "python",
  "npconvert_exporter": "python",
  "pygments_lexer": "ipython3",
  "version": 3
 },
 "nbformat": 4,
 "nbformat_minor": 2
}

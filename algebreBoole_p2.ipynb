{
 "cells": [
  {
   "cell_type": "markdown",
   "metadata": {},
   "source": [
    "# Algèbre de Boole (partie 2)"
   ]
  },
  {
   "cell_type": "markdown",
   "metadata": {},
   "source": [
    "## 3. Propriétés des fonctions de base"
   ]
  },
  {
   "cell_type": "markdown",
   "metadata": {},
   "source": [
    "Toutes ces propriétés peuvent se démontrer en établissant les tables de vérités des expressions qu'elles font intervenir."
   ]
  },
  {
   "cell_type": "markdown",
   "metadata": {},
   "source": [
    "### Premières propriétés"
   ]
  },
  {
   "cell_type": "markdown",
   "metadata": {},
   "source": [
    "- les fonctions ***et*** et ***ou*** sont **commutatives** :  \n",
    "si *x* et *y* sont deux booléens, on a <b>*x et y* = *y et x*</b> et aussi <b>*x ou y* = *y ou x*  </b>\n",
    "- les fonctions ***et*** et ***ou*** sont **associatives** :  \n",
    "si *x* , *y* et *z* sont trois booléens, on a <b>*x et* ( *y et z*) =( *x et y*) *et z*</b> et aussi <b>*x ou* ( *y ou z*) =( *x ou y*) *ou z* </b> \n",
    "- distributivité :   \n",
    "si *x* , *y* et *z* sont trois booléens, on a <b>*x et* ( *y ou z*) = ( *x et y*) *ou* ( *x et z*)</b> et aussi <b>*x ou* ( *y et z*) = ( *x ou y*) *et* ( *x ou z*)</b>  \n",
    "- éléments neutres :   \n",
    "    -l'élément neutre de la fonction *et* est *Vrai* : quelque soit le booléen *x*,<b> *x* et *Vrai* = *x* </b>  \n",
    "    -l'élément neutre de la fonction *ou* est *False* : quelque soit le booléen *x*,<b> *x* ou *False* = *x*</b>    \n",
    "- élément absorbant :   \n",
    "la fonction *et* a un élément absorbant qui est *False* :  quelque soit le booléen *x*, <b>*x* et *False* = *False* </b>\n"
   ]
  },
  {
   "cell_type": "markdown",
   "metadata": {},
   "source": [
    "#### Remarque :  \n",
    "On peut remarquer des similitudes avec les opérations numériques + et * qui sont elles aussi commutatives, associatives, distributives et avec des éléments neutres : 0 est l'élément neutre de l'addition et 1 est l'élément neutre de la multiplication ; 0 est également élément absorbant pour la multiplication.  \n",
    "En programmation, on peut ainsi être tenté de remplacer les fonctions logiques par des opérations numériques."
   ]
  },
  {
   "cell_type": "code",
   "execution_count": null,
   "metadata": {},
   "outputs": [],
   "source": [
    "a=True\n",
    "b =False\n",
    "print(\"a + b = \",(a+b))\n",
    "print(\"a * b = \",(a*b))"
   ]
  },
  {
   "cell_type": "markdown",
   "metadata": {},
   "source": [
    "L'intérêt est d'autant plus grand lorsqu'on enchaîne les fonctions logiques.  \n",
    "Attention cependant : en Python, *True* vaut 1 et *False* vaut 0 mais la réciproque est fausse car l'utilisation des opérations numériques provoque un changement de type.    \n",
    "Remarque : le + ne remplace pas vraiment le ou … parce que True + True donnerait 2. "
   ]
  },
  {
   "cell_type": "code",
   "execution_count": null,
   "metadata": {},
   "outputs": [],
   "source": [
    "a = True\n",
    "b = False\n",
    "c = a + b\n",
    "print(\"a est de type \",type(a))\n",
    "print(\"c est de type \",type(c))"
   ]
  },
  {
   "cell_type": "markdown",
   "metadata": {},
   "source": [
    "*exemple* : ultime traduction du premier exemple du cours"
   ]
  },
  {
   "cell_type": "code",
   "execution_count": null,
   "metadata": {},
   "outputs": [],
   "source": [
    "# création de l'ensemble des cas possibles\n",
    "possibles=[\n",
    "    {\"disque\":\"rouge\", \"carré\":\"bleu\",  \"triangle\":\"jaune\"},\n",
    "    {\"disque\":\"rouge\", \"carré\":\"jaune\", \"triangle\":\"bleu\"},\n",
    "    {\"disque\":\"bleu\",  \"carré\":\"rouge\", \"triangle\":\"jaune\"},\n",
    "    {\"disque\":\"bleu\",  \"carré\":\"jaune\", \"triangle\":\"rouge\"},\n",
    "    {\"disque\":\"jaune\", \"carré\":\"rouge\", \"triangle\":\"bleu\"},\n",
    "    {\"disque\":\"jaune\", \"carré\":\"bleu\",  \"triangle\":\"rouge\"}\n",
    "]\n",
    "\n",
    "for cas in possibles :\n",
    "    notOk = ((cas[\"carré\"] == \"bleu\") * (cas[\"disque\"] != \"jaune\"))+ ((cas[\"carré\"] == \"jaune\") *( cas[\"disque\"] != \"rouge\")) +( (cas[\"disque\"] != \"bleu\") *( cas[\"triangle\"] != \"jaune\")) \n",
    "    if notOk == 0 :\n",
    "        print(cas)"
   ]
  },
  {
   "cell_type": "markdown",
   "metadata": {},
   "source": [
    "### Autres propriétés :  \n",
    "- involution : quelque soit le booléen *x*, <b>*non* ( *non x* ) = *x*</b>  \n",
    "- tiers-exclus : quelque soit le booléen *x*, <b>*x ou* ( *non x* ) = *Vrai*</b>\n",
    "- non-contradiction : quelque soit le booléen *x*, <b>*x et* ( *non x* ) = *Faux*</b>\n",
    "- idempotence : quelque soit le booléen *x*, <b>*x et x* = *x*</b> et <b>*x ou x* = *x*</b>\n",
    "- Lois de De Morgan : soient *x* et *y* deux booléens, <b>*non* (*x ou y*) = (*non x*) *et* (*non y*)</b> et  <b>*non* (*x et y*) = (*non x*) *ou* (*non y*)</b> "
   ]
  },
  {
   "cell_type": "markdown",
   "metadata": {},
   "source": [
    "### Symboles pour les opérations de base"
   ]
  },
  {
   "cell_type": "markdown",
   "metadata": {},
   "source": [
    "En algèbre de Boole :   \n",
    "- ***non*** a pour symbole **~**\n",
    "- ***et*** a pour symbole **&**\n",
    "- ***ou*** a pour symbole **|**  \n",
    "\n",
    "Le code Python supporte les symboles **&** et **|** mais pas **~** qui correspond pour lui à une inversion de bit."
   ]
  },
  {
   "cell_type": "code",
   "execution_count": null,
   "metadata": {},
   "outputs": [],
   "source": [
    "print(~True)\n",
    "print(True & True)\n",
    "print(True & False)\n",
    "print(False | False)\n",
    "print(False | True)\n"
   ]
  },
  {
   "cell_type": "markdown",
   "metadata": {},
   "source": [
    "## 4. Les fonctions composées"
   ]
  },
  {
   "cell_type": "markdown",
   "metadata": {},
   "source": [
    "### a. Disjonction exclusive (ou exclusif) :  *xor*"
   ]
  },
  {
   "cell_type": "markdown",
   "metadata": {},
   "source": [
    "Elle correspond à la fonction définie, pour tous booléens *x* et *y* , par :  \n",
    "<b> *x xor y* = (*x et non y*) *ou* (*non x et y* )</b>  \n",
    "Son symbole est **^**.  \n",
    "On a donc <b> *x* ^ *y* = (*x*</b> **&** **~** ***y*** **)** **|** **(** **~** ***x*** **&** ***y*** **)**  \n",
    "Sa table de vérité est :"
   ]
  },
  {
   "cell_type": "markdown",
   "metadata": {},
   "source": [
    "| *x* | *y* | *xor*(*x*,*y*) |\n",
    "|:---:|:---:|:----------:|\n",
    "| 0 |0|0|\n",
    "|0 | 1 |1|\n",
    "| 1 |0|1|\n",
    "|1 | 1 |0|"
   ]
  },
  {
   "cell_type": "markdown",
   "metadata": {},
   "source": [
    "Le symbole **^** est reconnu par Python."
   ]
  },
  {
   "cell_type": "code",
   "execution_count": null,
   "metadata": {},
   "outputs": [],
   "source": [
    "print(True ^ False)\n",
    "print(True ^ True)"
   ]
  },
  {
   "cell_type": "markdown",
   "metadata": {},
   "source": [
    "### b. Fonction *non et* : *nand*"
   ]
  },
  {
   "cell_type": "markdown",
   "metadata": {},
   "source": [
    "Elle correspond à la fonction définie, pour tous booléens *x* et *y* , par :  \n",
    "<b> *x nand y* = *non* (*x et  y*)</b>  \n",
    "Son symbole est **↑**.\n",
    "On a donc  ***x*** **↑** ***y*** **=** **~**  **(** ***x*** **&**  ***y*** **)**  \n",
    "Ce symbole n'est pas reconnu par Python.  \n",
    "Sa table de vérité est : "
   ]
  },
  {
   "cell_type": "markdown",
   "metadata": {},
   "source": [
    "| *x* | *y* | *nand*(*x*,*y*) |\n",
    "|:---:|:---:|:----------:|\n",
    "| 0 |0|1|\n",
    "|0 | 1 |1|\n",
    "| 1 |0|1|\n",
    "|1 | 1 |0|"
   ]
  },
  {
   "cell_type": "markdown",
   "metadata": {},
   "source": [
    "### c. Fonction *non ou* : *nor*"
   ]
  },
  {
   "cell_type": "markdown",
   "metadata": {},
   "source": [
    "Elle correspond à la fonction définie, pour tous booléens *x* et *y* , par :  \n",
    "<b> *x nor y* = *non* (*x ou  y*)</b>  \n",
    "Son symbole est **↓**.\n",
    "On a donc  ***x*** **↓** ***y*** **=** **~**  **(** ***x*** **|**  ***y*** **)**  \n",
    "Ce symbole n'est pas reconnu par Python.  \n",
    "Sa table de vérité est : "
   ]
  },
  {
   "cell_type": "markdown",
   "metadata": {},
   "source": [
    "| *x* | *y* | *nor*(*x*,*y*) |\n",
    "|:---:|:---:|:----------:|\n",
    "| 0 |0|1|\n",
    "|0 | 1 |0|\n",
    "| 1 |0|0|\n",
    "|1 | 1 |0|"
   ]
  },
  {
   "cell_type": "markdown",
   "metadata": {},
   "source": [
    "<u>application 1</u> : trouver l'expression symbolique de la fonction **ssi** (équivalence) dont la table de vérité est la suivante"
   ]
  },
  {
   "cell_type": "markdown",
   "metadata": {},
   "source": [
    "| *x* | *y* | *x* **ssi** *y* |\n",
    "|:---:|:---:|:----------:|\n",
    "| 0 |0|1|\n",
    "|0 | 1 |0|\n",
    "| 1 |0|0|\n",
    "|1 | 1 |1|"
   ]
  },
  {
   "cell_type": "markdown",
   "metadata": {},
   "source": [
    "<u>application 2</u> :   \n",
    "Dans chacun des cas suivants, établir la table de vérité et trouver l'expression symbolique associée :\n",
    "- Quand deux interrupteurs sont en parallèle, la lumière s'allume quand au moins l'un d'eux est fermé.  \n",
    "- Quand deux interrupteurs sont en série, la lumière s'allume quand les deux sont fermés.\n",
    "- Quand deux interrupteurs sont en va-et-vient, la lumière s'allume quand les deux sont fermés ou les deux sont ouverts.\n"
   ]
  },
  {
   "cell_type": "markdown",
   "metadata": {},
   "source": [
    "<u>application 3</u> :  \n",
    "Arthur est content si Lancelot et Galaad sont tous les deux là, mais sans Guenièvre, ou si Guenièvre est là, soit avec Lancelot, soit avec Galaad.   \n",
    "Construire une table avec, en entrée la présence de Guenièvre, Lancelot et Galaad, et en sortie le booléen qui vaut 1 si Arthur est content.  \n",
    "Exprimer le choix d'Arthur par une phrase plus simple."
   ]
  },
  {
   "cell_type": "markdown",
   "metadata": {},
   "source": [
    "## 5. Opérations bit à bit"
   ]
  },
  {
   "cell_type": "markdown",
   "metadata": {},
   "source": [
    "On peut généraliser les opérations précédentes à des chaînes de bits.  \n",
    "*exemples* :"
   ]
  },
  {
   "cell_type": "code",
   "execution_count": null,
   "metadata": {},
   "outputs": [],
   "source": [
    "bin(0b1100 & 0b1010)"
   ]
  },
  {
   "cell_type": "code",
   "execution_count": null,
   "metadata": {},
   "outputs": [],
   "source": [
    "bin(0b1100 | 0b1010)"
   ]
  },
  {
   "cell_type": "code",
   "execution_count": null,
   "metadata": {},
   "outputs": [],
   "source": [
    "bin(0b1100 ^ 0b1010)"
   ]
  },
  {
   "cell_type": "markdown",
   "metadata": {},
   "source": [
    "<u>application 4</u> :   \n",
    "Compléter le tableau suivant en évaluant les opérations proposées à partir des octets *x* et *y* fournis :"
   ]
  },
  {
   "cell_type": "markdown",
   "metadata": {},
   "source": [
    "| Propriété| Valeur |\n",
    "|:---:|:---:|\n",
    "| x | 01101001 |\n",
    "| y | 01010101 |\n",
    "| x & y | |\n",
    "|x \\| y | |\n",
    "| x ^ y | |\n",
    "|x ↑ y | |"
   ]
  },
  {
   "cell_type": "markdown",
   "metadata": {},
   "source": [
    "<u>application 5</u> :  voir le document pdf \"algebreBoole_applications\""
   ]
  },
  {
   "cell_type": "code",
   "execution_count": null,
   "metadata": {},
   "outputs": [],
   "source": []
  }
 ],
 "metadata": {
  "kernelspec": {
   "display_name": "Python 3",
   "language": "python",
   "name": "python3"
  },
  "language_info": {
   "codemirror_mode": {
    "name": "ipython",
    "version": 3
   },
   "file_extension": ".py",
   "mimetype": "text/x-python",
   "name": "python",
   "nbconvert_exporter": "python",
   "pygments_lexer": "ipython3",
   "version": "3.7.4"
  }
 },
 "nbformat": 4,
 "nbformat_minor": 2
}
